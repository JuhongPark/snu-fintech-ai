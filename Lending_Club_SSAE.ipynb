{
  "cells": [
    {
      "cell_type": "markdown",
      "metadata": {
        "id": "2WyoEfeVoyh-"
      },
      "source": [
        "# 데이터 가져오기 및 전처리"
      ]
    },
    {
      "cell_type": "markdown",
      "metadata": {},
      "source": [
        "- [Google Colab에서 실행하기](https://colab.research.google.com/github/JuhongPark/snu-fintech-ai/blob/develop/Lending_Club_SSAE.ipynb)"
      ]
    },
    {
      "cell_type": "code",
      "execution_count": 1,
      "metadata": {},
      "outputs": [
        {
          "name": "stderr",
          "output_type": "stream",
          "text": [
            "/Users/jisu/miniconda/envs/torch/lib/python3.9/site-packages/dask/dataframe/_pyarrow_compat.py:23: UserWarning: You are using pyarrow version 13.0.0 which is known to be insecure. See https://www.cve.org/CVERecord?id=CVE-2023-47248 for further details. Please upgrade to pyarrow>=14.0.1 or install pyarrow-hotfix to patch your current version.\n",
            "  warnings.warn(\n"
          ]
        }
      ],
      "source": [
        "import pandas as pd\n",
        "import numpy as np\n",
        "import torch\n",
        "import torch.nn as nn\n",
        "import torch.optim as optim\n",
        "from sklearn.model_selection import train_test_split\n",
        "from sklearn.preprocessing import StandardScaler\n",
        "from sklearn.metrics import accuracy_score, precision_score, recall_score, f1_score, r2_score\n",
        "import shap\n",
        "from sklearn.ensemble import RandomForestClassifier\n",
        "from sklearn.linear_model import LogisticRegression\n",
        "import xgboost as xgb\n",
        "import lightgbm as lgbm\n",
        "import matplotlib.pyplot as plt\n",
        "from sklearn.metrics import confusion_matrix, ConfusionMatrixDisplay"
      ]
    },
    {
      "cell_type": "markdown",
      "metadata": {
        "id": "Ans_U0Bqoyh-"
      },
      "source": [
        "## 데이터 다운로드하기"
      ]
    },
    {
      "cell_type": "code",
      "execution_count": 2,
      "metadata": {
        "colab": {
          "base_uri": "https://localhost:8080/"
        },
        "id": "zI6kC6DqO2qA",
        "outputId": "f07bb55c-7170-44d6-8f41-a2b0ec80c7d8"
      },
      "outputs": [],
      "source": [
        "# from google.colab import drive\n",
        "# drive.mount('/content/drive')"
      ]
    },
    {
      "cell_type": "code",
      "execution_count": 3,
      "metadata": {
        "colab": {
          "base_uri": "https://localhost:8080/"
        },
        "id": "mn3BhYVohcPI",
        "outputId": "b16c2117-5142-43d4-a6e5-c8b375bbf48f"
      },
      "outputs": [],
      "source": [
        "# # 모든 행이 화면에 표시되도록 설정합니다.\n",
        "# pd.set_option('display.max_rows', None)\n",
        "# file_path = '/content/drive/MyDrive/lending_club_2020_train.csv'\n",
        "# df = pd.read_csv(file_path)\n",
        "\n",
        "# 모든 행이 화면에 표시되도록 설정합니다.\n",
        "pd.set_option('display.max_rows', None)\n",
        "\n",
        "file_path = '../LendingClub/LC_Data_Cleaned_2.csv'\n",
        "df = pd.read_csv(file_path)"
      ]
    },
    {
      "cell_type": "markdown",
      "metadata": {
        "id": "x0DpvFHJoyh-"
      },
      "source": [
        "## 데이터 구조 훑어 보기"
      ]
    },
    {
      "cell_type": "code",
      "execution_count": 3,
      "metadata": {
        "colab": {
          "base_uri": "https://localhost:8080/",
          "height": 342
        },
        "id": "eIAt4-Y_oyh-",
        "outputId": "aae2dc66-4d2b-465a-d42d-d2d07899dd96"
      },
      "outputs": [
        {
          "data": {
            "text/html": [
              "<div>\n",
              "<style scoped>\n",
              "    .dataframe tbody tr th:only-of-type {\n",
              "        vertical-align: middle;\n",
              "    }\n",
              "\n",
              "    .dataframe tbody tr th {\n",
              "        vertical-align: top;\n",
              "    }\n",
              "\n",
              "    .dataframe thead th {\n",
              "        text-align: right;\n",
              "    }\n",
              "</style>\n",
              "<table border=\"1\" class=\"dataframe\">\n",
              "  <thead>\n",
              "    <tr style=\"text-align: right;\">\n",
              "      <th></th>\n",
              "      <th>loan_amnt</th>\n",
              "      <th>term</th>\n",
              "      <th>int_rate</th>\n",
              "      <th>installment</th>\n",
              "      <th>sub_grade</th>\n",
              "      <th>emp_title</th>\n",
              "      <th>emp_length</th>\n",
              "      <th>home_ownership</th>\n",
              "      <th>annual_inc</th>\n",
              "      <th>verification_status</th>\n",
              "      <th>...</th>\n",
              "      <th>pct_tl_nvr_dlq</th>\n",
              "      <th>percent_bc_gt_75</th>\n",
              "      <th>pub_rec_bankruptcies</th>\n",
              "      <th>tax_liens</th>\n",
              "      <th>tot_hi_cred_lim</th>\n",
              "      <th>total_bal_ex_mort</th>\n",
              "      <th>total_bc_limit</th>\n",
              "      <th>total_il_high_credit_limit</th>\n",
              "      <th>debt_settlement_flag</th>\n",
              "      <th>loan_status_encoded</th>\n",
              "    </tr>\n",
              "  </thead>\n",
              "  <tbody>\n",
              "    <tr>\n",
              "      <th>0</th>\n",
              "      <td>12800.0</td>\n",
              "      <td>0</td>\n",
              "      <td>0.1433</td>\n",
              "      <td>439.53</td>\n",
              "      <td>C2</td>\n",
              "      <td>Brivo Systems</td>\n",
              "      <td>1.0</td>\n",
              "      <td>0</td>\n",
              "      <td>132500.0</td>\n",
              "      <td>1</td>\n",
              "      <td>...</td>\n",
              "      <td>88.0</td>\n",
              "      <td>50.0</td>\n",
              "      <td>0.0</td>\n",
              "      <td>0.0</td>\n",
              "      <td>393952.0</td>\n",
              "      <td>79834.0</td>\n",
              "      <td>8593.0</td>\n",
              "      <td>82659.0</td>\n",
              "      <td>N</td>\n",
              "      <td>0</td>\n",
              "    </tr>\n",
              "    <tr>\n",
              "      <th>1</th>\n",
              "      <td>24000.0</td>\n",
              "      <td>0</td>\n",
              "      <td>0.0769</td>\n",
              "      <td>748.65</td>\n",
              "      <td>A4</td>\n",
              "      <td>IT System Administrator</td>\n",
              "      <td>10.0</td>\n",
              "      <td>0</td>\n",
              "      <td>70000.0</td>\n",
              "      <td>0</td>\n",
              "      <td>...</td>\n",
              "      <td>100.0</td>\n",
              "      <td>100.0</td>\n",
              "      <td>0.0</td>\n",
              "      <td>0.0</td>\n",
              "      <td>126684.0</td>\n",
              "      <td>25691.0</td>\n",
              "      <td>22600.0</td>\n",
              "      <td>21384.0</td>\n",
              "      <td>N</td>\n",
              "      <td>0</td>\n",
              "    </tr>\n",
              "    <tr>\n",
              "      <th>2</th>\n",
              "      <td>18000.0</td>\n",
              "      <td>0</td>\n",
              "      <td>0.1249</td>\n",
              "      <td>602.08</td>\n",
              "      <td>B4</td>\n",
              "      <td>Administrator</td>\n",
              "      <td>2.0</td>\n",
              "      <td>0</td>\n",
              "      <td>69500.0</td>\n",
              "      <td>0</td>\n",
              "      <td>...</td>\n",
              "      <td>97.8</td>\n",
              "      <td>100.0</td>\n",
              "      <td>0.0</td>\n",
              "      <td>0.0</td>\n",
              "      <td>271341.0</td>\n",
              "      <td>137583.0</td>\n",
              "      <td>4600.0</td>\n",
              "      <td>129718.0</td>\n",
              "      <td>N</td>\n",
              "      <td>1</td>\n",
              "    </tr>\n",
              "    <tr>\n",
              "      <th>3</th>\n",
              "      <td>5600.0</td>\n",
              "      <td>0</td>\n",
              "      <td>0.1099</td>\n",
              "      <td>183.32</td>\n",
              "      <td>B3</td>\n",
              "      <td>NaN</td>\n",
              "      <td>0.0</td>\n",
              "      <td>1</td>\n",
              "      <td>42000.0</td>\n",
              "      <td>0</td>\n",
              "      <td>...</td>\n",
              "      <td>88.9</td>\n",
              "      <td>100.0</td>\n",
              "      <td>0.0</td>\n",
              "      <td>0.0</td>\n",
              "      <td>22593.0</td>\n",
              "      <td>13074.0</td>\n",
              "      <td>2100.0</td>\n",
              "      <td>16093.0</td>\n",
              "      <td>N</td>\n",
              "      <td>0</td>\n",
              "    </tr>\n",
              "    <tr>\n",
              "      <th>4</th>\n",
              "      <td>5600.0</td>\n",
              "      <td>0</td>\n",
              "      <td>0.1620</td>\n",
              "      <td>197.44</td>\n",
              "      <td>C4</td>\n",
              "      <td>Lab Technician/Secretary II</td>\n",
              "      <td>4.0</td>\n",
              "      <td>1</td>\n",
              "      <td>60000.0</td>\n",
              "      <td>0</td>\n",
              "      <td>...</td>\n",
              "      <td>100.0</td>\n",
              "      <td>100.0</td>\n",
              "      <td>0.0</td>\n",
              "      <td>0.0</td>\n",
              "      <td>51804.0</td>\n",
              "      <td>41327.0</td>\n",
              "      <td>19600.0</td>\n",
              "      <td>28775.0</td>\n",
              "      <td>Y</td>\n",
              "      <td>1</td>\n",
              "    </tr>\n",
              "  </tbody>\n",
              "</table>\n",
              "<p>5 rows × 64 columns</p>\n",
              "</div>"
            ],
            "text/plain": [
              "   loan_amnt  term  int_rate  installment sub_grade  \\\n",
              "0    12800.0     0    0.1433       439.53        C2   \n",
              "1    24000.0     0    0.0769       748.65        A4   \n",
              "2    18000.0     0    0.1249       602.08        B4   \n",
              "3     5600.0     0    0.1099       183.32        B3   \n",
              "4     5600.0     0    0.1620       197.44        C4   \n",
              "\n",
              "                     emp_title  emp_length  home_ownership  annual_inc  \\\n",
              "0                Brivo Systems         1.0               0    132500.0   \n",
              "1      IT System Administrator        10.0               0     70000.0   \n",
              "2                Administrator         2.0               0     69500.0   \n",
              "3                          NaN         0.0               1     42000.0   \n",
              "4  Lab Technician/Secretary II         4.0               1     60000.0   \n",
              "\n",
              "   verification_status  ... pct_tl_nvr_dlq percent_bc_gt_75  \\\n",
              "0                    1  ...           88.0             50.0   \n",
              "1                    0  ...          100.0            100.0   \n",
              "2                    0  ...           97.8            100.0   \n",
              "3                    0  ...           88.9            100.0   \n",
              "4                    0  ...          100.0            100.0   \n",
              "\n",
              "   pub_rec_bankruptcies  tax_liens tot_hi_cred_lim  total_bal_ex_mort  \\\n",
              "0                   0.0        0.0        393952.0            79834.0   \n",
              "1                   0.0        0.0        126684.0            25691.0   \n",
              "2                   0.0        0.0        271341.0           137583.0   \n",
              "3                   0.0        0.0         22593.0            13074.0   \n",
              "4                   0.0        0.0         51804.0            41327.0   \n",
              "\n",
              "   total_bc_limit  total_il_high_credit_limit  debt_settlement_flag  \\\n",
              "0          8593.0                     82659.0                     N   \n",
              "1         22600.0                     21384.0                     N   \n",
              "2          4600.0                    129718.0                     N   \n",
              "3          2100.0                     16093.0                     N   \n",
              "4         19600.0                     28775.0                     Y   \n",
              "\n",
              "   loan_status_encoded  \n",
              "0                    0  \n",
              "1                    0  \n",
              "2                    1  \n",
              "3                    0  \n",
              "4                    1  \n",
              "\n",
              "[5 rows x 64 columns]"
            ]
          },
          "execution_count": 3,
          "metadata": {},
          "output_type": "execute_result"
        }
      ],
      "source": [
        "df.head()"
      ]
    },
    {
      "cell_type": "code",
      "execution_count": 4,
      "metadata": {
        "colab": {
          "base_uri": "https://localhost:8080/"
        },
        "id": "CauMz5Sloyh_",
        "outputId": "c9379629-5a94-4fcf-91b3-d5c9b8cc28e4"
      },
      "outputs": [
        {
          "name": "stdout",
          "output_type": "stream",
          "text": [
            "<class 'pandas.core.frame.DataFrame'>\n",
            "RangeIndex: 75090 entries, 0 to 75089\n",
            "Data columns (total 64 columns):\n",
            " #   Column                          Non-Null Count  Dtype  \n",
            "---  ------                          --------------  -----  \n",
            " 0   loan_amnt                       75090 non-null  float64\n",
            " 1   term                            75090 non-null  int64  \n",
            " 2   int_rate                        75090 non-null  float64\n",
            " 3   installment                     75090 non-null  float64\n",
            " 4   sub_grade                       75090 non-null  object \n",
            " 5   emp_title                       70225 non-null  object \n",
            " 6   emp_length                      75090 non-null  float64\n",
            " 7   home_ownership                  75090 non-null  int64  \n",
            " 8   annual_inc                      75090 non-null  float64\n",
            " 9   verification_status             75090 non-null  int64  \n",
            " 10  url                             75090 non-null  object \n",
            " 11  title                           75090 non-null  object \n",
            " 12  dti                             75090 non-null  float64\n",
            " 13  delinq_2yrs                     75090 non-null  float64\n",
            " 14  earliest_cr_line                75090 non-null  object \n",
            " 15  fico_range_low                  75090 non-null  float64\n",
            " 16  fico_range_high                 75090 non-null  float64\n",
            " 17  inq_last_6mths                  75090 non-null  float64\n",
            " 18  mths_since_last_delinq          75090 non-null  float64\n",
            " 19  mths_since_last_record          75090 non-null  float64\n",
            " 20  open_acc                        75090 non-null  float64\n",
            " 21  pub_rec                         75090 non-null  float64\n",
            " 22  revol_bal                       75090 non-null  float64\n",
            " 23  revol_util                      75090 non-null  float64\n",
            " 24  total_acc                       75090 non-null  float64\n",
            " 25  last_credit_pull_d              75081 non-null  object \n",
            " 26  tot_coll_amt                    75090 non-null  float64\n",
            " 27  tot_cur_bal                     75090 non-null  float64\n",
            " 28  total_rev_hi_lim                75090 non-null  float64\n",
            " 29  acc_open_past_24mths            75090 non-null  float64\n",
            " 30  avg_cur_bal                     75090 non-null  float64\n",
            " 31  bc_open_to_buy                  75090 non-null  float64\n",
            " 32  bc_util                         75090 non-null  float64\n",
            " 33  mo_sin_old_il_acct              75090 non-null  float64\n",
            " 34  mo_sin_old_rev_tl_op            75090 non-null  float64\n",
            " 35  mo_sin_rcnt_rev_tl_op           75090 non-null  float64\n",
            " 36  mo_sin_rcnt_tl                  75090 non-null  float64\n",
            " 37  mort_acc                        75090 non-null  float64\n",
            " 38  mths_since_recent_bc            75090 non-null  float64\n",
            " 39  mths_since_recent_bc_dlq        75090 non-null  float64\n",
            " 40  mths_since_recent_inq           75090 non-null  float64\n",
            " 41  mths_since_recent_revol_delinq  75090 non-null  float64\n",
            " 42  num_accts_ever_120_pd           75090 non-null  float64\n",
            " 43  num_actv_bc_tl                  75090 non-null  float64\n",
            " 44  num_actv_rev_tl                 75090 non-null  float64\n",
            " 45  num_bc_sats                     75090 non-null  float64\n",
            " 46  num_bc_tl                       75090 non-null  float64\n",
            " 47  num_il_tl                       75090 non-null  float64\n",
            " 48  num_op_rev_tl                   75090 non-null  float64\n",
            " 49  num_rev_accts                   75090 non-null  float64\n",
            " 50  num_rev_tl_bal_gt_0             75090 non-null  float64\n",
            " 51  num_sats                        75090 non-null  float64\n",
            " 52  num_tl_90g_dpd_24m              75090 non-null  float64\n",
            " 53  num_tl_op_past_12m              75090 non-null  float64\n",
            " 54  pct_tl_nvr_dlq                  75090 non-null  float64\n",
            " 55  percent_bc_gt_75                75090 non-null  float64\n",
            " 56  pub_rec_bankruptcies            75090 non-null  float64\n",
            " 57  tax_liens                       75090 non-null  float64\n",
            " 58  tot_hi_cred_lim                 75090 non-null  float64\n",
            " 59  total_bal_ex_mort               75090 non-null  float64\n",
            " 60  total_bc_limit                  75090 non-null  float64\n",
            " 61  total_il_high_credit_limit      75090 non-null  float64\n",
            " 62  debt_settlement_flag            75090 non-null  object \n",
            " 63  loan_status_encoded             75090 non-null  int64  \n",
            "dtypes: float64(53), int64(4), object(7)\n",
            "memory usage: 36.7+ MB\n"
          ]
        }
      ],
      "source": [
        "df.info()"
      ]
    },
    {
      "cell_type": "code",
      "execution_count": 5,
      "metadata": {
        "colab": {
          "base_uri": "https://localhost:8080/"
        },
        "id": "cHRwx1mIQAvx",
        "outputId": "3bfb5cc1-5940-4cda-f25a-81fc9ac20a23"
      },
      "outputs": [
        {
          "data": {
            "text/plain": [
              "(75090, 64)"
            ]
          },
          "execution_count": 5,
          "metadata": {},
          "output_type": "execute_result"
        }
      ],
      "source": [
        "df.shape"
      ]
    },
    {
      "cell_type": "code",
      "execution_count": 6,
      "metadata": {
        "colab": {
          "base_uri": "https://localhost:8080/",
          "height": 1000
        },
        "id": "834eyNhpmEWc",
        "outputId": "77fedd2d-864f-4f3e-9dc6-2c824f7a3c3c"
      },
      "outputs": [
        {
          "data": {
            "text/plain": [
              "loan_amnt                         float64\n",
              "term                                int64\n",
              "int_rate                          float64\n",
              "installment                       float64\n",
              "sub_grade                          object\n",
              "emp_title                          object\n",
              "emp_length                        float64\n",
              "home_ownership                      int64\n",
              "annual_inc                        float64\n",
              "verification_status                 int64\n",
              "url                                object\n",
              "title                              object\n",
              "dti                               float64\n",
              "delinq_2yrs                       float64\n",
              "earliest_cr_line                   object\n",
              "fico_range_low                    float64\n",
              "fico_range_high                   float64\n",
              "inq_last_6mths                    float64\n",
              "mths_since_last_delinq            float64\n",
              "mths_since_last_record            float64\n",
              "open_acc                          float64\n",
              "pub_rec                           float64\n",
              "revol_bal                         float64\n",
              "revol_util                        float64\n",
              "total_acc                         float64\n",
              "last_credit_pull_d                 object\n",
              "tot_coll_amt                      float64\n",
              "tot_cur_bal                       float64\n",
              "total_rev_hi_lim                  float64\n",
              "acc_open_past_24mths              float64\n",
              "avg_cur_bal                       float64\n",
              "bc_open_to_buy                    float64\n",
              "bc_util                           float64\n",
              "mo_sin_old_il_acct                float64\n",
              "mo_sin_old_rev_tl_op              float64\n",
              "mo_sin_rcnt_rev_tl_op             float64\n",
              "mo_sin_rcnt_tl                    float64\n",
              "mort_acc                          float64\n",
              "mths_since_recent_bc              float64\n",
              "mths_since_recent_bc_dlq          float64\n",
              "mths_since_recent_inq             float64\n",
              "mths_since_recent_revol_delinq    float64\n",
              "num_accts_ever_120_pd             float64\n",
              "num_actv_bc_tl                    float64\n",
              "num_actv_rev_tl                   float64\n",
              "num_bc_sats                       float64\n",
              "num_bc_tl                         float64\n",
              "num_il_tl                         float64\n",
              "num_op_rev_tl                     float64\n",
              "num_rev_accts                     float64\n",
              "num_rev_tl_bal_gt_0               float64\n",
              "num_sats                          float64\n",
              "num_tl_90g_dpd_24m                float64\n",
              "num_tl_op_past_12m                float64\n",
              "pct_tl_nvr_dlq                    float64\n",
              "percent_bc_gt_75                  float64\n",
              "pub_rec_bankruptcies              float64\n",
              "tax_liens                         float64\n",
              "tot_hi_cred_lim                   float64\n",
              "total_bal_ex_mort                 float64\n",
              "total_bc_limit                    float64\n",
              "total_il_high_credit_limit        float64\n",
              "debt_settlement_flag               object\n",
              "loan_status_encoded                 int64\n",
              "dtype: object"
            ]
          },
          "execution_count": 6,
          "metadata": {},
          "output_type": "execute_result"
        }
      ],
      "source": [
        "df.dtypes"
      ]
    },
    {
      "cell_type": "markdown",
      "metadata": {},
      "source": [
        "## 데이터 전처리"
      ]
    },
    {
      "cell_type": "code",
      "execution_count": 4,
      "metadata": {
        "id": "BLvjMFC3j8Kk"
      },
      "outputs": [
        {
          "data": {
            "text/html": [
              "<div>\n",
              "<style scoped>\n",
              "    .dataframe tbody tr th:only-of-type {\n",
              "        vertical-align: middle;\n",
              "    }\n",
              "\n",
              "    .dataframe tbody tr th {\n",
              "        vertical-align: top;\n",
              "    }\n",
              "\n",
              "    .dataframe thead th {\n",
              "        text-align: right;\n",
              "    }\n",
              "</style>\n",
              "<table border=\"1\" class=\"dataframe\">\n",
              "  <thead>\n",
              "    <tr style=\"text-align: right;\">\n",
              "      <th></th>\n",
              "      <th>id</th>\n",
              "      <th>loan_amnt</th>\n",
              "      <th>term</th>\n",
              "      <th>int_rate</th>\n",
              "      <th>installment</th>\n",
              "      <th>emp_length</th>\n",
              "      <th>home_ownership</th>\n",
              "      <th>annual_inc</th>\n",
              "      <th>verification_status</th>\n",
              "      <th>dti</th>\n",
              "      <th>...</th>\n",
              "      <th>num_tl_op_past_12m</th>\n",
              "      <th>pct_tl_nvr_dlq</th>\n",
              "      <th>percent_bc_gt_75</th>\n",
              "      <th>pub_rec_bankruptcies</th>\n",
              "      <th>tax_liens</th>\n",
              "      <th>tot_hi_cred_lim</th>\n",
              "      <th>total_bal_ex_mort</th>\n",
              "      <th>total_bc_limit</th>\n",
              "      <th>total_il_high_credit_limit</th>\n",
              "      <th>loan_status_encoded</th>\n",
              "    </tr>\n",
              "  </thead>\n",
              "  <tbody>\n",
              "    <tr>\n",
              "      <th>0</th>\n",
              "      <td>6519928</td>\n",
              "      <td>12800.0</td>\n",
              "      <td>0</td>\n",
              "      <td>0.1433</td>\n",
              "      <td>439.53</td>\n",
              "      <td>1.0</td>\n",
              "      <td>0</td>\n",
              "      <td>132500.0</td>\n",
              "      <td>1</td>\n",
              "      <td>9.78</td>\n",
              "      <td>...</td>\n",
              "      <td>3.0</td>\n",
              "      <td>88.0</td>\n",
              "      <td>50.0</td>\n",
              "      <td>0.0</td>\n",
              "      <td>0.0</td>\n",
              "      <td>393952.0</td>\n",
              "      <td>79834.0</td>\n",
              "      <td>8593.0</td>\n",
              "      <td>82659.0</td>\n",
              "      <td>0</td>\n",
              "    </tr>\n",
              "    <tr>\n",
              "      <th>1</th>\n",
              "      <td>26359465</td>\n",
              "      <td>24000.0</td>\n",
              "      <td>0</td>\n",
              "      <td>0.0769</td>\n",
              "      <td>748.65</td>\n",
              "      <td>10.0</td>\n",
              "      <td>0</td>\n",
              "      <td>70000.0</td>\n",
              "      <td>0</td>\n",
              "      <td>17.32</td>\n",
              "      <td>...</td>\n",
              "      <td>0.0</td>\n",
              "      <td>100.0</td>\n",
              "      <td>100.0</td>\n",
              "      <td>0.0</td>\n",
              "      <td>0.0</td>\n",
              "      <td>126684.0</td>\n",
              "      <td>25691.0</td>\n",
              "      <td>22600.0</td>\n",
              "      <td>21384.0</td>\n",
              "      <td>0</td>\n",
              "    </tr>\n",
              "    <tr>\n",
              "      <th>2</th>\n",
              "      <td>13897978</td>\n",
              "      <td>18000.0</td>\n",
              "      <td>0</td>\n",
              "      <td>0.1249</td>\n",
              "      <td>602.08</td>\n",
              "      <td>2.0</td>\n",
              "      <td>0</td>\n",
              "      <td>69500.0</td>\n",
              "      <td>0</td>\n",
              "      <td>23.71</td>\n",
              "      <td>...</td>\n",
              "      <td>2.0</td>\n",
              "      <td>97.8</td>\n",
              "      <td>100.0</td>\n",
              "      <td>0.0</td>\n",
              "      <td>0.0</td>\n",
              "      <td>271341.0</td>\n",
              "      <td>137583.0</td>\n",
              "      <td>4600.0</td>\n",
              "      <td>129718.0</td>\n",
              "      <td>1</td>\n",
              "    </tr>\n",
              "    <tr>\n",
              "      <th>3</th>\n",
              "      <td>15429979</td>\n",
              "      <td>5600.0</td>\n",
              "      <td>0</td>\n",
              "      <td>0.1099</td>\n",
              "      <td>183.32</td>\n",
              "      <td>0.0</td>\n",
              "      <td>1</td>\n",
              "      <td>42000.0</td>\n",
              "      <td>0</td>\n",
              "      <td>12.14</td>\n",
              "      <td>...</td>\n",
              "      <td>1.0</td>\n",
              "      <td>88.9</td>\n",
              "      <td>100.0</td>\n",
              "      <td>0.0</td>\n",
              "      <td>0.0</td>\n",
              "      <td>22593.0</td>\n",
              "      <td>13074.0</td>\n",
              "      <td>2100.0</td>\n",
              "      <td>16093.0</td>\n",
              "      <td>0</td>\n",
              "    </tr>\n",
              "    <tr>\n",
              "      <th>4</th>\n",
              "      <td>8975826</td>\n",
              "      <td>5600.0</td>\n",
              "      <td>0</td>\n",
              "      <td>0.1620</td>\n",
              "      <td>197.44</td>\n",
              "      <td>4.0</td>\n",
              "      <td>1</td>\n",
              "      <td>60000.0</td>\n",
              "      <td>0</td>\n",
              "      <td>24.56</td>\n",
              "      <td>...</td>\n",
              "      <td>1.0</td>\n",
              "      <td>100.0</td>\n",
              "      <td>100.0</td>\n",
              "      <td>0.0</td>\n",
              "      <td>0.0</td>\n",
              "      <td>51804.0</td>\n",
              "      <td>41327.0</td>\n",
              "      <td>19600.0</td>\n",
              "      <td>28775.0</td>\n",
              "      <td>1</td>\n",
              "    </tr>\n",
              "  </tbody>\n",
              "</table>\n",
              "<p>5 rows × 59 columns</p>\n",
              "</div>"
            ],
            "text/plain": [
              "         id  loan_amnt  term  int_rate  installment  emp_length  \\\n",
              "0   6519928    12800.0     0    0.1433       439.53         1.0   \n",
              "1  26359465    24000.0     0    0.0769       748.65        10.0   \n",
              "2  13897978    18000.0     0    0.1249       602.08         2.0   \n",
              "3  15429979     5600.0     0    0.1099       183.32         0.0   \n",
              "4   8975826     5600.0     0    0.1620       197.44         4.0   \n",
              "\n",
              "   home_ownership  annual_inc  verification_status    dti  ...  \\\n",
              "0               0    132500.0                    1   9.78  ...   \n",
              "1               0     70000.0                    0  17.32  ...   \n",
              "2               0     69500.0                    0  23.71  ...   \n",
              "3               1     42000.0                    0  12.14  ...   \n",
              "4               1     60000.0                    0  24.56  ...   \n",
              "\n",
              "   num_tl_op_past_12m  pct_tl_nvr_dlq  percent_bc_gt_75  pub_rec_bankruptcies  \\\n",
              "0                 3.0            88.0              50.0                   0.0   \n",
              "1                 0.0           100.0             100.0                   0.0   \n",
              "2                 2.0            97.8             100.0                   0.0   \n",
              "3                 1.0            88.9             100.0                   0.0   \n",
              "4                 1.0           100.0             100.0                   0.0   \n",
              "\n",
              "   tax_liens  tot_hi_cred_lim  total_bal_ex_mort  total_bc_limit  \\\n",
              "0        0.0         393952.0            79834.0          8593.0   \n",
              "1        0.0         126684.0            25691.0         22600.0   \n",
              "2        0.0         271341.0           137583.0          4600.0   \n",
              "3        0.0          22593.0            13074.0          2100.0   \n",
              "4        0.0          51804.0            41327.0         19600.0   \n",
              "\n",
              "   total_il_high_credit_limit  loan_status_encoded  \n",
              "0                     82659.0                    0  \n",
              "1                     21384.0                    0  \n",
              "2                    129718.0                    1  \n",
              "3                     16093.0                    0  \n",
              "4                     28775.0                    1  \n",
              "\n",
              "[5 rows x 59 columns]"
            ]
          },
          "execution_count": 4,
          "metadata": {},
          "output_type": "execute_result"
        }
      ],
      "source": [
        "# 범주형변수 처리\n",
        "df = df.select_dtypes(include = [np.number])\n",
        "\n",
        "# 결측치 처리\n",
        "df = df.fillna(0)\n",
        "df.head()"
      ]
    },
    {
      "cell_type": "code",
      "execution_count": 5,
      "metadata": {
        "id": "z-HhhKW2rWKq"
      },
      "outputs": [],
      "source": [
        "target = 'loan_status_encoded'\n",
        "\n",
        "\n",
        "X = df.drop(columns=[target])\n",
        "y = df[target]"
      ]
    },
    {
      "cell_type": "markdown",
      "metadata": {
        "id": "RWIX34Exoyim"
      },
      "source": [
        "# 모델 선택과 훈련"
      ]
    },
    {
      "cell_type": "markdown",
      "metadata": {
        "id": "BTRHX9M5oyiA"
      },
      "source": [
        "## 테스트 세트 만들기"
      ]
    },
    {
      "cell_type": "code",
      "execution_count": 6,
      "metadata": {},
      "outputs": [],
      "source": [
        "# Torch 설정\n",
        "device = torch.device(\"cuda\" if torch.cuda.is_available() else \"cpu\")"
      ]
    },
    {
      "cell_type": "code",
      "execution_count": 7,
      "metadata": {
        "id": "BLnzlvjchMLK"
      },
      "outputs": [],
      "source": [
        "# 데이터를 훈련 세트와 테스트 세트로 분할\n",
        "X_train, X_test, y_train, y_test = train_test_split(X, y, test_size=0.2, random_state=42, stratify=y)\n",
        "\n",
        "# 표준화 (훈련 데이터에 fit_transform, 테스트 데이터에 transform)\n",
        "scaler = StandardScaler()\n",
        "X_train = scaler.fit_transform(X_train)\n",
        "X_test = scaler.transform(X_test)"
      ]
    },
    {
      "cell_type": "code",
      "execution_count": 8,
      "metadata": {
        "id": "_oNhyJ6IWsPy"
      },
      "outputs": [],
      "source": [
        "# 파라미터 설정\n",
        "\n",
        "# For model\n",
        "learning_rate = 0.01\n",
        "\n",
        "# For training\n",
        "n_epochs = 10000\n"
      ]
    },
    {
      "cell_type": "markdown",
      "metadata": {},
      "source": [
        "## SSAE 모델 정의"
      ]
    },
    {
      "cell_type": "markdown",
      "metadata": {},
      "source": [
        "- 오토인코더(Autoencoder):\n",
        "    - 구조: 오토인코더는 입력 데이터를 저차원 공간으로 압축한 뒤, 이를 다시 복원하는 과정을 거친다. 기본적으로 입력과 출력이 동일한 형태를 가지며, 데이터의 중요한 특징만을 추출하여 저차원 공간에 표현한다.\n",
        "    - 목적: 데이터의 효율적인 표현 학습을 목적으로 합니다. 데이터의 노이즈 제거, 차원 축소, 특징 학습 등에 사용된다.\n",
        "    - 손실 함수: 주로 MSE(Mean Squared Error)와 같은 재구성 오류를 최소화하는 방식으로 학습.\n",
        "\n",
        "- 스파스 스택 오토인코더(Sparse Stacked Autoencoder, SSAE):\n",
        "    - 구조: SSAE는 오토인코더의 변형으로, 네트워크가 특정 제약 조건을 갖도록 하여 학습한다. \"Sparse\"라는 용어는 네트워크의 뉴런이 활성화되는 비율을 조절하여, 특정 뉴런만이 활성화되도록 강제하는 제약을 뜻한다.\n",
        "    - 목적: 뉴런의 활성화 빈도를 제어함으로써 데이터의 중요한 특징을 더욱 잘 학습하도록 유도한다. 스파스 제약 조건을 통해 네트워크는 특정 입력에 대해 일부 뉴런만 활성화되도록 학습하며, 이를 통해 보다 효율적인 특징 학습을 할 수 있다.\n",
        "    - 노이즈 추가: SSAE는 종종 노이즈를 포함한 데이터를 입력으로 받아들이고, 깨끗한 출력을 생성하도록 학습된다. 이를 통해 모델은 원본 데이터를 더 잘 복원하도록 학습된다.\n",
        "    - 손실 함수: 일반 오토인코더와 마찬가지로 재구성 오류를 최소화하는 방향으로 학습되지만, 추가적으로 스파스 제약 조건을 만족시키기 위해 추가적인 손실 항이 포함될 수 있다."
      ]
    },
    {
      "cell_type": "code",
      "execution_count": 9,
      "metadata": {},
      "outputs": [],
      "source": [
        "# Denoising SSAE 모델 정의\n",
        "class DenoisingSSAE(nn.Module):\n",
        "    def __init__(self, input_dim):\n",
        "        super(DenoisingSSAE, self).__init__()\n",
        "        self.encoder = nn.Sequential(\n",
        "            nn.Linear(input_dim, 64),\n",
        "            nn.ReLU(),\n",
        "            nn.Linear(64, 32),\n",
        "            nn.ReLU(),\n",
        "            nn.Linear(32, 8),\n",
        "            nn.ReLU(),\n",
        "\n",
        "        )\n",
        "        self.decoder = nn.Sequential(\n",
        "            nn.Linear(8, 32),\n",
        "            nn.ReLU(),\n",
        "            nn.Linear(32, 64),\n",
        "            nn.ReLU(),\n",
        "            nn.Linear(64, input_dim)\n",
        "        )\n",
        "\n",
        "    def forward(self, x):\n",
        "        encoded = self.encoder(x)\n",
        "        decoded = self.decoder(encoded)\n",
        "        return decoded\n",
        "\n",
        "# Noise 추가 함수\n",
        "def add_noise(data, noise_factor=0.2):\n",
        "    noise = noise_factor * np.random.randn(*data.shape)\n",
        "    noisy_data = data + noise\n",
        "    noisy_data = np.clip(noisy_data, 0., 1.)\n",
        "    return noisy_data"
      ]
    },
    {
      "cell_type": "code",
      "execution_count": 10,
      "metadata": {},
      "outputs": [],
      "source": [
        "# 모델 생성 및 학습 설정\n",
        "input_dim = X_train.shape[1]\n",
        "model = DenoisingSSAE(input_dim).to(device)\n",
        "criterion = nn.MSELoss()\n",
        "optimizer = optim.Adam(model.parameters(), lr=learning_rate)"
      ]
    },
    {
      "cell_type": "code",
      "execution_count": 11,
      "metadata": {},
      "outputs": [
        {
          "name": "stdout",
          "output_type": "stream",
          "text": [
            "Epoch [1/10000], Loss: 1.0089\n",
            "Epoch [1000/10000], Loss: 0.4358\n",
            "Epoch [2000/10000], Loss: 0.4162\n",
            "Epoch [3000/10000], Loss: 0.4056\n",
            "Epoch [4000/10000], Loss: 0.3907\n",
            "Epoch [5000/10000], Loss: 0.3844\n",
            "Epoch [6000/10000], Loss: 0.3753\n",
            "Epoch [7000/10000], Loss: 0.3679\n"
          ]
        }
      ],
      "source": [
        "# 모델 학습\n",
        "epochs = n_epochs\n",
        "X_train_noisy = add_noise(X_train)\n",
        "\n",
        "for epoch in range(epochs):\n",
        "    model.train()\n",
        "    inputs = torch.FloatTensor(X_train_noisy).to(device)\n",
        "    targets = torch.FloatTensor(X_train).to(device)\n",
        "\n",
        "    # Forward pass\n",
        "    outputs = model(inputs)\n",
        "    loss = criterion(outputs, targets)\n",
        "\n",
        "    # Backward pass and optimization\n",
        "    optimizer.zero_grad()\n",
        "    loss.backward()\n",
        "    optimizer.step()\n",
        "\n",
        "    if (epoch+1) % 1000 == 0 or epoch == 0:\n",
        "        print(f'Epoch [{epoch+1}/{epochs}], Loss: {loss.item():.4f}')\n",
        "    # # 매 에포크마다 손실 출력\n",
        "    # print(f'Epoch [{epoch+1}/{epochs}], Loss: {loss.item():.4f}')"
      ]
    },
    {
      "cell_type": "code",
      "execution_count": null,
      "metadata": {},
      "outputs": [],
      "source": [
        "# SSAE 모델에서 차원 축소된 데이터 생성\n",
        "model.eval()\n",
        "X_train_encoded_ssae = model.encoder(torch.FloatTensor(X_train).to(device)).detach().cpu().numpy()\n",
        "X_test_encoded_ssae = model.encoder(torch.FloatTensor(X_test).to(device)).detach().cpu().numpy()"
      ]
    },
    {
      "cell_type": "markdown",
      "metadata": {},
      "source": [
        "## 모델 평가함수 및 실행"
      ]
    },
    {
      "cell_type": "code",
      "execution_count": 17,
      "metadata": {
        "id": "yXpRxDP8W6Zo"
      },
      "outputs": [],
      "source": [
        "# 평가함수 정의\n",
        "def evaluate_model(model, X_train, X_test, y_train, y_test):\n",
        "    model.fit(X_train, y_train)\n",
        "    y_pred = model.predict(X_test)\n",
        "    \n",
        "    accuracy = accuracy_score(y_test, y_pred)\n",
        "    precision = precision_score(y_test, y_pred)\n",
        "    recall = recall_score(y_test, y_pred)\n",
        "    f1 = f1_score(y_test, y_pred)\n",
        "    \n",
        "    print(f\"Accuracy: {accuracy:.4f}, Precision: {precision:.4f}, Recall: {recall:.4f}, F1 Score: {f1:.4f}\")\n",
        "\n",
        "    cm = confusion_matrix(y_test, y_pred)\n",
        "    disp = ConfusionMatrixDisplay(confusion_matrix=cm)\n",
        "    disp.plot()\n",
        "    plt.show()"
      ]
    },
    {
      "cell_type": "code",
      "execution_count": 18,
      "metadata": {},
      "outputs": [],
      "source": [
        "def evaluate_models_shap1(model, X_train_encoded_ssae, X_test_encoded_ssae):\n",
        "    # Independent Masker와 LinearExplainer를 사용한 Shapley Value 계산\n",
        "    masker = shap.maskers.Independent(X_train_encoded_ssae)\n",
        "    explainer = shap.LinearExplainer(model, masker=masker)\n",
        "    shap_values = explainer(X_test_encoded_ssae)\n",
        "\n",
        "    # summary_plot을 사용한 Shapley Value 시각화\n",
        "    shap.summary_plot(shap_values, X_test_encoded_ssae, feature_names=[f\"Encoded_{i}\" for i in range(X_test_encoded_ssae.shape[1])])\n",
        "\n",
        "def evaluate_models_shap2(model, X_test_encoded_ssae):\n",
        "    # TreeExplainer를 사용한 Shapley Value 계산\n",
        "    explainer = shap.TreeExplainer(model)\n",
        "    shap_values = explainer.shap_values(X_test_encoded_ssae)\n",
        "\n",
        "    # summary_plot을 사용한 Shapley Value 시각화\n",
        "    shap.summary_plot(shap_values, X_test_encoded_ssae, feature_names=[f\"Encoded_{i}\" for i in range(X_test_encoded_ssae.shape[1])])\n"
      ]
    },
    {
      "cell_type": "code",
      "execution_count": 19,
      "metadata": {
        "colab": {
          "base_uri": "https://localhost:8080/"
        },
        "id": "iISLdev9Zbx9",
        "outputId": "45cf368e-089f-4551-fc19-beffc78897f1"
      },
      "outputs": [
        {
          "name": "stderr",
          "output_type": "stream",
          "text": [
            "/Users/jisu/miniconda/envs/torch/lib/python3.9/site-packages/dask/dataframe/_pyarrow_compat.py:23: UserWarning: You are using pyarrow version 13.0.0 which is known to be insecure. See https://www.cve.org/CVERecord?id=CVE-2023-47248 for further details. Please upgrade to pyarrow>=14.0.1 or install pyarrow-hotfix to patch your current version.\n",
            "  warnings.warn(\n"
          ]
        }
      ],
      "source": [
        "# 모델 정의\n",
        "linear_models = {\n",
        "    \"Logistic Regression\": LogisticRegression(max_iter=1000),\n",
        "}\n",
        "\n",
        "ensemble_models = {\n",
        "    \"Random Forest Classifier\": RandomForestClassifier(),\n",
        "    \"XGBoost Classifier\": xgb.XGBClassifier(),\n",
        "    \"LightGBM Classifier\": lgbm.LGBMClassifier()\n",
        "}"
      ]
    },
    {
      "cell_type": "markdown",
      "metadata": {},
      "source": [
        "## 테스트세트로 평가하기"
      ]
    },
    {
      "cell_type": "code",
      "execution_count": 20,
      "metadata": {
        "colab": {
          "base_uri": "https://localhost:8080/",
          "height": 408
        },
        "id": "0wvLrc6GZpON",
        "outputId": "0f4c7938-69fc-41a5-af9c-09a7b553bacf"
      },
      "outputs": [
        {
          "name": "stdout",
          "output_type": "stream",
          "text": [
            "** Evaluating Logistic Regression on SSAE Encoded Data: \n",
            "Accuracy: 0.5619, Precision: 0.5502, Recall: 0.6784, F1 Score: 0.6076, R² Score: -0.7523\n"
          ]
        },
        {
          "data": {
            "image/png": "[encoded data removed]",
            "text/plain": [
              "<Figure size 640x480 with 2 Axes>"
            ]
          },
          "metadata": {},
          "output_type": "display_data"
        },
        {
          "name": "stdout",
          "output_type": "stream",
          "text": [
            "** Evaluating Logistic Regression's Shapley Value: \n"
          ]
        },
        {
          "data": {
            "image/png": "[encoded data removed]",
            "text/plain": [
              "<Figure size 800x470 with 2 Axes>"
            ]
          },
          "metadata": {},
          "output_type": "display_data"
        }
      ],
      "source": [
        "for model_name, model in linear_models.items():\n",
        "    print(f\"** Evaluating {model_name} on SSAE Encoded Data: \")\n",
        "    evaluate_model(model, X_train_encoded_ssae, X_test_encoded_ssae, y_train, y_test)\n",
        "\n",
        "    print(f\"** Evaluating {model_name}'s Shapley Value: \")\n",
        "    evaluate_models_shap1(model, X_train_encoded_ssae, X_test_encoded_ssae)"
      ]
    },
    {
      "cell_type": "code",
      "execution_count": 21,
      "metadata": {
        "id": "-jATilC-nC_7"
      },
      "outputs": [
        {
          "name": "stdout",
          "output_type": "stream",
          "text": [
            "** Evaluating Random Forest Classifier on SSAE Encoded Data: \n",
            "Accuracy: 0.5534, Precision: 0.5552, Recall: 0.5375, F1 Score: 0.5462, R² Score: -0.7864\n"
          ]
        },
        {
          "data": {
            "image/png": "[encoded data removed]",
            "text/plain": [
              "<Figure size 640x480 with 2 Axes>"
            ]
          },
          "metadata": {},
          "output_type": "display_data"
        }
      ],
      "source": [
        "for model_name, model in ensemble_models.items():\n",
        "    print(f\"** Evaluating {model_name} on SSAE Encoded Data: \")\n",
        "    evaluate_model(model, X_train_encoded_ssae, X_test_encoded_ssae, y_train, y_test)\n",
        "\n",
        "    print(f\"** Evaluating {model_name}'s Shapley Value: \")\n",
        "    evaluate_models_shap2(model, X_test_encoded_ssae)"
      ]
    }
  ],
  "metadata": {
    "colab": {
      "provenance": []
    },
    "kernelspec": {
      "display_name": "Python 3 (ipykernel)",
      "language": "python",
      "name": "python3"
    },
    "language_info": {
      "codemirror_mode": {
        "name": "ipython",
        "version": 3
      },
      "file_extension": ".py",
      "mimetype": "text/x-python",
      "name": "python",
      "nbconvert_exporter": "python",
      "pygments_lexer": "ipython3",
      "version": "3.9.18"
    },
    "nav_menu": {
      "height": "279px",
      "width": "309px"
    },
    "toc": {
      "nav_menu": {},
      "number_sections": true,
      "sideBar": true,
      "skip_h1_title": false,
      "toc_cell": false,
      "toc_position": {},
      "toc_section_display": "block",
      "toc_window_display": false
    }
  },
  "nbformat": 4,
  "nbformat_minor": 0
}
