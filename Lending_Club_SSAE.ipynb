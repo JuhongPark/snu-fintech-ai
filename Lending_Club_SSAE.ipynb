{
 "cells": [
  {
   "cell_type": "markdown",
   "metadata": {
    "id": "5Q35P2ummXim"
   },
   "source": [
    "<table align=\"left\">\n",
    "  <td>\n",
    "    <a href=\"https://colab.research.google.com/github/JuhongPark/snu-fintech-ai/blob/main/Lending_Club_SSAE.ipynb\" target=\"_parent\"><img src=\"https://colab.research.google.com/assets/colab-badge.svg\" alt=\"Open In Colab\"/></a>\n",
    "  </td>\n",
    "</table>"
   ]
  },
  {
   "cell_type": "markdown",
   "metadata": {
    "id": "2WyoEfeVoyh-"
   },
   "source": [
    "# 데이터 가져오기 및 전처리"
   ]
  },
  {
   "cell_type": "code",
   "execution_count": 406,
   "metadata": {},
   "outputs": [],
   "source": [
    "# Brnach 지정\n",
    "branch = 'develop'\n",
    "\n",
    "# 라이브러리 설치 (2분 가량 소요됨)\n",
    "#!pip install shap -q\n",
    "#!pip install pytorch_tabnet -q\n",
    "\n",
    "# 필요 파일 다운로드\n",
    "#!wget https://raw.githubusercontent.com/JuhongPark/snu-fintech-ai/{branch}/LC_Data_Cleaned_0829.csv"
   ]
  },
  {
   "cell_type": "code",
   "execution_count": 407,
   "metadata": {},
   "outputs": [],
   "source": [
    "seed = 42  # seed 값 설정\n",
    "is_test = False  # 테스트런 설정\n",
    "\n",
    "# 입력 변수 파라미터\n",
    "target = 'loan_status_encoded'\n",
    "drop_list = ['id', 'int_rate', 'installment', 'sub_grade', 'grade', 'tbond_int', 'year', 'term', 'loan_status', 'zip_code']\n",
    "feature_list = ['loan_amnt', 'emp_length', 'revol_util', 'pub_rec', 'fico_range_high', 'fico_range_low', 'percent_bc_gt_75']\n",
    "cat_list = ['purpose', 'addr_state', 'initial_list_status']\n",
    "\n",
    "# 대출 이후 변수\n",
    "post_list = ['Funded_amnt', 'funded_amnt_inv', 'collection_recovery_fee', 'collections_12_mths_ex_med', 'last_credit_pull_d', 'last_pymnt_amnt', 'last_pymnt_d',\n",
    " 'mths_since_last_major_derog', 'next_pymnt_d', 'out_prncp', 'out_prncp_inv', 'recoveries', 'total_pymnt', 'total_pymnt_inv', 'total_rec_int', 'total_rec_late_fee',\n",
    " 'total_rec_prncp', 'hardship_flag', 'hardship_type', 'hardship_reason', 'hardship_status', 'deferral_term', 'hardship_amount', 'hardship_start_date', 'hardship_end_date',\n",
    " 'payment_plan_start_date', 'hardship_length', 'hardship_dpd', 'hardship_loan_status', 'orig_projected_additional_accrued_interest', 'hardship_payoff_balance_amount',\n",
    " 'hardship_last_payment_amount', 'debt_settlement_flag', 'last_fico_range_high', 'last_fico_range_low']\n",
    "\n",
    "# 모델 파라미터 설정\n",
    "# For model\n",
    "learning_rate = 0.01\n",
    "\n",
    "# For training\n",
    "n_epochs = 10000\n",
    "\n",
    "# For CV\n",
    "cv = 10\n",
    "\n",
    "# For SSAE\n",
    "n_epochs_ssae = 100\n",
    "latent_size = 4\n",
    "\n",
    "# 테스트 런일 경우, 에포크 수를 줄임\n",
    "if is_test:\n",
    "    n_epochs = 10"
   ]
  },
  {
   "cell_type": "code",
   "execution_count": 408,
   "metadata": {
    "colab": {
     "base_uri": "https://localhost:8080/"
    },
    "id": "ATZ3E7NEKApJ",
    "outputId": "653a45fc-17ab-47e4-b4ae-5360f61fcec2"
   },
   "outputs": [],
   "source": [
    "import random\n",
    "import pandas as pd\n",
    "import numpy as np\n",
    "import torch\n",
    "import torch.nn as nn\n",
    "import torch.optim as optim\n",
    "from sklearn.model_selection import train_test_split, cross_val_score, RandomizedSearchCV\n",
    "from sklearn.preprocessing import StandardScaler\n",
    "from sklearn.metrics import accuracy_score, precision_score, recall_score, f1_score\n",
    "import shap\n",
    "from sklearn.ensemble import RandomForestClassifier\n",
    "from pytorch_tabnet.tab_model import TabNetClassifier\n",
    "from sklearn.linear_model import LogisticRegression\n",
    "import xgboost as xgb\n",
    "import lightgbm as lgbm\n",
    "from sklearn.pipeline import Pipeline\n",
    "import matplotlib.pyplot as plt\n",
    "from sklearn.metrics import confusion_matrix, ConfusionMatrixDisplay\n",
    "from sklearn.base import BaseEstimator, TransformerMixin"
   ]
  },
  {
   "cell_type": "code",
   "execution_count": 409,
   "metadata": {},
   "outputs": [],
   "source": [
    "# Random Seed 설정\n",
    "def set_random_seed(seed):\n",
    "    random.seed(seed) # 파이썬 표준 라이브러리\n",
    "    np.random.seed(seed) # numpy의 random 모듈에서 사용하는 seed\n",
    "    torch.manual_seed(seed) # pytorch에서 사용하는 seed\n",
    "    if torch.cuda.is_available(): # GPU에서 실행되는 PyTorch 연산의 무작위성을 제어\n",
    "        torch.cuda.manual_seed(seed)\n",
    "        torch.cuda.manual_seed_all(seed)\n",
    "\n",
    "# seed 값 설정\n",
    "set_random_seed(seed)"
   ]
  },
  {
   "cell_type": "markdown",
   "metadata": {
    "id": "Ans_U0Bqoyh-"
   },
   "source": [
    "## 데이터 다운로드하기"
   ]
  },
  {
   "cell_type": "code",
   "execution_count": 410,
   "metadata": {
    "id": "mn3BhYVohcPI"
   },
   "outputs": [],
   "source": [
    "# 모든 행이 화면에 표시되도록 설정합니다.\n",
    "pd.set_option('display.max_rows', None)\n",
    "\n",
    "# 파일 로드\n",
    "file_path = 'LC_Data_Cleaned_0829.csv'\n",
    "df = pd.read_csv(file_path)\n",
    "\n",
    "# 테스트 런일 경우, 데이터 크기 줄이기\n",
    "if is_test:\n",
    "    df = df.sample(frac=0.01, random_state=seed)"
   ]
  },
  {
   "cell_type": "markdown",
   "metadata": {
    "id": "x0DpvFHJoyh-"
   },
   "source": [
    "## 데이터 구조 훑어 보기"
   ]
  },
  {
   "cell_type": "code",
   "execution_count": 411,
   "metadata": {
    "colab": {
     "base_uri": "https://localhost:8080/",
     "height": 256
    },
    "id": "eIAt4-Y_oyh-",
    "outputId": "537e79ec-50cb-4a7f-d6f3-e25d5f9b6667"
   },
   "outputs": [
    {
     "data": {
      "text/html": [
       "<div>\n",
       "<style scoped>\n",
       "    .dataframe tbody tr th:only-of-type {\n",
       "        vertical-align: middle;\n",
       "    }\n",
       "\n",
       "    .dataframe tbody tr th {\n",
       "        vertical-align: top;\n",
       "    }\n",
       "\n",
       "    .dataframe thead th {\n",
       "        text-align: right;\n",
       "    }\n",
       "</style>\n",
       "<table border=\"1\" class=\"dataframe\">\n",
       "  <thead>\n",
       "    <tr style=\"text-align: right;\">\n",
       "      <th></th>\n",
       "      <th>loan_amnt</th>\n",
       "      <th>funded_amnt</th>\n",
       "      <th>term</th>\n",
       "      <th>int_rate</th>\n",
       "      <th>installment</th>\n",
       "      <th>grade</th>\n",
       "      <th>sub_grade</th>\n",
       "      <th>emp_length</th>\n",
       "      <th>home_ownership</th>\n",
       "      <th>annual_inc</th>\n",
       "      <th>...</th>\n",
       "      <th>percent_bc_gt_75</th>\n",
       "      <th>pub_rec_bankruptcies</th>\n",
       "      <th>tax_liens</th>\n",
       "      <th>tot_hi_cred_lim</th>\n",
       "      <th>total_bal_ex_mort</th>\n",
       "      <th>total_bc_limit</th>\n",
       "      <th>total_il_high_credit_limit</th>\n",
       "      <th>loan_status_encoded</th>\n",
       "      <th>year</th>\n",
       "      <th>tbond_int</th>\n",
       "    </tr>\n",
       "  </thead>\n",
       "  <tbody>\n",
       "    <tr>\n",
       "      <th>0</th>\n",
       "      <td>1000.0</td>\n",
       "      <td>1000.0</td>\n",
       "      <td>0</td>\n",
       "      <td>0.1824</td>\n",
       "      <td>36.28</td>\n",
       "      <td>D</td>\n",
       "      <td>D5</td>\n",
       "      <td>10.0</td>\n",
       "      <td>1</td>\n",
       "      <td>70000.0</td>\n",
       "      <td>...</td>\n",
       "      <td>100.0</td>\n",
       "      <td>0.0</td>\n",
       "      <td>1.0</td>\n",
       "      <td>82804.0</td>\n",
       "      <td>61559.0</td>\n",
       "      <td>22800.0</td>\n",
       "      <td>51304.0</td>\n",
       "      <td>0</td>\n",
       "      <td>2014</td>\n",
       "      <td>0.001211</td>\n",
       "    </tr>\n",
       "    <tr>\n",
       "      <th>1</th>\n",
       "      <td>5000.0</td>\n",
       "      <td>5000.0</td>\n",
       "      <td>0</td>\n",
       "      <td>0.1199</td>\n",
       "      <td>166.05</td>\n",
       "      <td>B</td>\n",
       "      <td>B3</td>\n",
       "      <td>10.0</td>\n",
       "      <td>0</td>\n",
       "      <td>37000.0</td>\n",
       "      <td>...</td>\n",
       "      <td>80.0</td>\n",
       "      <td>0.0</td>\n",
       "      <td>0.0</td>\n",
       "      <td>55620.0</td>\n",
       "      <td>18537.0</td>\n",
       "      <td>8000.0</td>\n",
       "      <td>12955.0</td>\n",
       "      <td>0</td>\n",
       "      <td>2014</td>\n",
       "      <td>0.001211</td>\n",
       "    </tr>\n",
       "    <tr>\n",
       "      <th>2</th>\n",
       "      <td>22975.0</td>\n",
       "      <td>22975.0</td>\n",
       "      <td>1</td>\n",
       "      <td>0.1015</td>\n",
       "      <td>489.85</td>\n",
       "      <td>B</td>\n",
       "      <td>B2</td>\n",
       "      <td>7.0</td>\n",
       "      <td>0</td>\n",
       "      <td>81000.0</td>\n",
       "      <td>...</td>\n",
       "      <td>75.0</td>\n",
       "      <td>0.0</td>\n",
       "      <td>0.0</td>\n",
       "      <td>203958.0</td>\n",
       "      <td>72241.0</td>\n",
       "      <td>21200.0</td>\n",
       "      <td>79120.0</td>\n",
       "      <td>0</td>\n",
       "      <td>2014</td>\n",
       "      <td>0.016416</td>\n",
       "    </tr>\n",
       "    <tr>\n",
       "      <th>3</th>\n",
       "      <td>14825.0</td>\n",
       "      <td>14825.0</td>\n",
       "      <td>1</td>\n",
       "      <td>0.1855</td>\n",
       "      <td>380.91</td>\n",
       "      <td>D</td>\n",
       "      <td>D2</td>\n",
       "      <td>10.0</td>\n",
       "      <td>1</td>\n",
       "      <td>37000.0</td>\n",
       "      <td>...</td>\n",
       "      <td>40.0</td>\n",
       "      <td>0.0</td>\n",
       "      <td>0.0</td>\n",
       "      <td>63937.0</td>\n",
       "      <td>26644.0</td>\n",
       "      <td>15300.0</td>\n",
       "      <td>34437.0</td>\n",
       "      <td>1</td>\n",
       "      <td>2013</td>\n",
       "      <td>0.011721</td>\n",
       "    </tr>\n",
       "    <tr>\n",
       "      <th>4</th>\n",
       "      <td>10000.0</td>\n",
       "      <td>10000.0</td>\n",
       "      <td>0</td>\n",
       "      <td>0.0762</td>\n",
       "      <td>311.62</td>\n",
       "      <td>A</td>\n",
       "      <td>A3</td>\n",
       "      <td>10.0</td>\n",
       "      <td>0</td>\n",
       "      <td>85000.0</td>\n",
       "      <td>...</td>\n",
       "      <td>25.0</td>\n",
       "      <td>0.0</td>\n",
       "      <td>0.0</td>\n",
       "      <td>350965.0</td>\n",
       "      <td>107907.0</td>\n",
       "      <td>47797.0</td>\n",
       "      <td>100380.0</td>\n",
       "      <td>1</td>\n",
       "      <td>2013</td>\n",
       "      <td>0.001312</td>\n",
       "    </tr>\n",
       "  </tbody>\n",
       "</table>\n",
       "<p>5 rows × 71 columns</p>\n",
       "</div>"
      ],
      "text/plain": [
       "   loan_amnt  funded_amnt  term  int_rate  installment grade sub_grade  \\\n",
       "0     1000.0       1000.0     0    0.1824        36.28     D        D5   \n",
       "1     5000.0       5000.0     0    0.1199       166.05     B        B3   \n",
       "2    22975.0      22975.0     1    0.1015       489.85     B        B2   \n",
       "3    14825.0      14825.0     1    0.1855       380.91     D        D2   \n",
       "4    10000.0      10000.0     0    0.0762       311.62     A        A3   \n",
       "\n",
       "   emp_length  home_ownership  annual_inc  ...  percent_bc_gt_75  \\\n",
       "0        10.0               1     70000.0  ...             100.0   \n",
       "1        10.0               0     37000.0  ...              80.0   \n",
       "2         7.0               0     81000.0  ...              75.0   \n",
       "3        10.0               1     37000.0  ...              40.0   \n",
       "4        10.0               0     85000.0  ...              25.0   \n",
       "\n",
       "  pub_rec_bankruptcies tax_liens tot_hi_cred_lim total_bal_ex_mort  \\\n",
       "0                  0.0       1.0         82804.0           61559.0   \n",
       "1                  0.0       0.0         55620.0           18537.0   \n",
       "2                  0.0       0.0        203958.0           72241.0   \n",
       "3                  0.0       0.0         63937.0           26644.0   \n",
       "4                  0.0       0.0        350965.0          107907.0   \n",
       "\n",
       "   total_bc_limit  total_il_high_credit_limit  loan_status_encoded  year  \\\n",
       "0         22800.0                     51304.0                    0  2014   \n",
       "1          8000.0                     12955.0                    0  2014   \n",
       "2         21200.0                     79120.0                    0  2014   \n",
       "3         15300.0                     34437.0                    1  2013   \n",
       "4         47797.0                    100380.0                    1  2013   \n",
       "\n",
       "   tbond_int  \n",
       "0   0.001211  \n",
       "1   0.001211  \n",
       "2   0.016416  \n",
       "3   0.011721  \n",
       "4   0.001312  \n",
       "\n",
       "[5 rows x 71 columns]"
      ]
     },
     "execution_count": 411,
     "metadata": {},
     "output_type": "execute_result"
    }
   ],
   "source": [
    "df.head()"
   ]
  },
  {
   "cell_type": "markdown",
   "metadata": {
    "id": "kxjdTP4gKApM"
   },
   "source": [
    "## 데이터 전처리"
   ]
  },
  {
   "cell_type": "code",
   "execution_count": 412,
   "metadata": {
    "colab": {
     "base_uri": "https://localhost:8080/",
     "height": 256
    },
    "id": "L42IMY2hKSEO",
    "outputId": "c428f136-6ace-4ed8-f5fe-b90c4949fd50"
   },
   "outputs": [
    {
     "data": {
      "text/plain": [
       "(222028, 59)"
      ]
     },
     "execution_count": 412,
     "metadata": {},
     "output_type": "execute_result"
    }
   ],
   "source": [
    "# 기존 df 에 있는 칼럼 중에서, drop_list 및 post_list의 칼럼 제거\n",
    "drop_list = list(set(df.columns) & set(drop_list + post_list))\n",
    "\n",
    "# 불필요한 변수 Drop\n",
    "df = df.drop(columns = drop_list)\n",
    "\n",
    "# 결측치 처리\n",
    "df = df.fillna(0)\n",
    "df.shape"
   ]
  },
  {
   "cell_type": "code",
   "execution_count": 413,
   "metadata": {},
   "outputs": [],
   "source": [
    "X = df.drop(columns=[target])\n",
    "y = df[target]"
   ]
  },
  {
   "cell_type": "markdown",
   "metadata": {
    "id": "RWIX34Exoyim"
   },
   "source": [
    "# 모델 선택과 훈련"
   ]
  },
  {
   "cell_type": "markdown",
   "metadata": {
    "id": "BTRHX9M5oyiA"
   },
   "source": [
    "## 테스트 세트 만들기"
   ]
  },
  {
   "cell_type": "code",
   "execution_count": 414,
   "metadata": {
    "id": "PrhJ2zzMKApN"
   },
   "outputs": [],
   "source": [
    "# Torch 설정\n",
    "device = torch.device(\"cuda\" if torch.cuda.is_available() else \"cpu\") if not is_test else \"cpu\" "
   ]
  },
  {
   "cell_type": "code",
   "execution_count": 415,
   "metadata": {
    "id": "BLnzlvjchMLK"
   },
   "outputs": [],
   "source": [
    "# 데이터를 훈련 세트와 테스트 세트로 분할\n",
    "X_train, X_test, y_train, y_test = train_test_split(X, y, test_size=0.3, random_state=42, stratify=y)\n",
    "\n",
    "# 수치형 변수 선정\n",
    "num_list = list(set(X_train.columns) ^ set(cat_list))"
   ]
  },
  {
   "cell_type": "code",
   "execution_count": 416,
   "metadata": {},
   "outputs": [
    {
     "data": {
      "text/plain": [
       "loan_status_encoded\n",
       "0    55345\n",
       "1    11264\n",
       "Name: count, dtype: int64"
      ]
     },
     "execution_count": 416,
     "metadata": {},
     "output_type": "execute_result"
    }
   ],
   "source": [
    "y_test.value_counts()"
   ]
  },
  {
   "cell_type": "code",
   "execution_count": 417,
   "metadata": {},
   "outputs": [],
   "source": [
    "# OneHotEncoder 생성 및 학습 데이터에 적합\n",
    "oneHotEncoder = OneHotEncoder(sparse_output=False)\n",
    "oneHotEncoder.fit(X_train[cat_list])\n",
    "\n",
    "# 학습 데이터에 인코딩 적용\n",
    "X_train_encoded = pd.DataFrame(\n",
    "    oneHotEncoder.transform(X_train[cat_list]), \n",
    "    columns=oneHotEncoder.get_feature_names_out(cat_list), \n",
    "    index=X_train.index\n",
    ")\n",
    "\n",
    "# 테스트 데이터에 인코딩 적용\n",
    "X_test_encoded = pd.DataFrame(\n",
    "    oneHotEncoder.transform(X_test[cat_list]), \n",
    "    columns=oneHotEncoder.get_feature_names_out(cat_list), \n",
    "    index=X_test.index\n",
    ")\n",
    "\n",
    "# 원래 데이터프레임과 병합\n",
    "X_train = X_train.drop(cat_list, axis=1).join(X_train_encoded)\n",
    "X_test = X_test.drop(cat_list, axis=1).join(X_test_encoded)"
   ]
  },
  {
   "cell_type": "code",
   "execution_count": 418,
   "metadata": {
    "id": "BLnzlvjchMLK"
   },
   "outputs": [],
   "source": [
    "# 표준화 (훈련 데이터에 fit_transform, 테스트 데이터에 transform)\n",
    "scaler = StandardScaler()\n",
    "\n",
    "# 수치형 변수 찾기\n",
    "X_train[num_list] = scaler.fit_transform(X_train[num_list])  # (TODO): 더미 변수 표준화에서 제외해야함\n",
    "X_test[num_list] = scaler.transform(X_test[num_list])"
   ]
  },
  {
   "cell_type": "code",
   "execution_count": 419,
   "metadata": {},
   "outputs": [
    {
     "name": "stdout",
     "output_type": "stream",
     "text": [
      "(155419, 119)\n",
      "(155419,)\n"
     ]
    }
   ],
   "source": [
    "print(X_train.shape)\n",
    "print(y_train.shape)"
   ]
  },
  {
   "cell_type": "markdown",
   "metadata": {
    "id": "uvlhFSTgKApN"
   },
   "source": [
    "## SSAE 모델 정의"
   ]
  },
  {
   "cell_type": "code",
   "execution_count": 420,
   "metadata": {
    "id": "GhT0RT1sKApN"
   },
   "outputs": [],
   "source": [
    "# SSAE 모델 정의\n",
    "class DenoisingSSAE(nn.Module):\n",
    "    def __init__(self, input_dim):\n",
    "        super(DenoisingSSAE, self).__init__()\n",
    "        self.encoder = nn.Sequential(\n",
    "            nn.Linear(input_dim, 64),  # input_dim이 실제 데이터의 feature 수와 일치해야 함\n",
    "            nn.ReLU(),\n",
    "            nn.Linear(64, 32),\n",
    "            nn.ReLU(),\n",
    "            nn.Linear(32, latent_size),\n",
    "            nn.ReLU(),\n",
    "        )\n",
    "        self.decoder = nn.Sequential(\n",
    "            nn.Linear(latent_size, 32),\n",
    "            nn.ReLU(),\n",
    "            nn.Linear(32, 64),\n",
    "            nn.ReLU(),\n",
    "            nn.Linear(64, input_dim)  # output_dim도 input_dim과 일치해야 함\n",
    "        )\n",
    "\n",
    "    def forward(self, x):\n",
    "        encoded = self.encoder(x)\n",
    "        decoded = self.decoder(encoded)\n",
    "        return decoded\n",
    "    \n",
    "# Noise 추가 함수\n",
    "def add_noise(data, noise_factor=0.2):\n",
    "    noise = noise_factor * np.random.randn(*data.shape)\n",
    "    noisy_data = data + noise\n",
    "    noisy_data = np.clip(noisy_data, 0., 1.)\n",
    "    return noisy_data"
   ]
  },
  {
   "cell_type": "code",
   "execution_count": 421,
   "metadata": {},
   "outputs": [
    {
     "name": "stdout",
     "output_type": "stream",
     "text": [
      "64\n"
     ]
    }
   ],
   "source": [
    "# Encoding 목표 설정\n",
    "encoding_target = list(set(X_train.columns) ^ set(num_list))\n",
    "\n",
    "# 노이즈가 추가\n",
    "X_train_noisy_np = add_noise(X_train[encoding_target]).to_numpy()\n",
    "X_train_np = X_train[encoding_target].to_numpy()\n",
    "          \n",
    "input_dim = X_train_np.shape[1]  # X_train의 feature 수\n",
    "print(input_dim)"
   ]
  },
  {
   "cell_type": "code",
   "execution_count": 422,
   "metadata": {},
   "outputs": [
    {
     "name": "stdout",
     "output_type": "stream",
     "text": [
      "Epoch [1/100], Loss: 0.0511\n",
      "Epoch [10/100], Loss: 0.0315\n",
      "Epoch [20/100], Loss: 0.0276\n",
      "Epoch [30/100], Loss: 0.0252\n",
      "Epoch [40/100], Loss: 0.0230\n",
      "Epoch [50/100], Loss: 0.0194\n",
      "Epoch [60/100], Loss: 0.0179\n",
      "Epoch [70/100], Loss: 0.0172\n",
      "Epoch [80/100], Loss: 0.0167\n",
      "Epoch [90/100], Loss: 0.0164\n",
      "Epoch [100/100], Loss: 0.0162\n"
     ]
    }
   ],
   "source": [
    "# 모델 생성 및 학습 설정\n",
    "ssae_model = DenoisingSSAE(input_dim).to(device)\n",
    "criterion = nn.MSELoss()\n",
    "optimizer = optim.Adam(ssae_model.parameters(), lr=learning_rate)\n",
    "\n",
    "# 모델 학습\n",
    "for epoch in range(n_epochs_ssae):\n",
    "    ssae_model.train()\n",
    "    inputs = torch.FloatTensor(X_train_noisy_np).to(device)  # NumPy 배열 -> PyTorch 텐서\n",
    "    targets = torch.FloatTensor(X_train_np).to(device)  # NumPy 배열 -> PyTorch 텐서\n",
    "\n",
    "    # Forward pass\n",
    "    outputs = ssae_model(inputs)\n",
    "    loss = criterion(outputs, targets)\n",
    "\n",
    "    # Backward pass and optimization\n",
    "    optimizer.zero_grad()\n",
    "    loss.backward()\n",
    "    optimizer.step()\n",
    "\n",
    "    if (epoch+1) % 10 == 0 or epoch == 0:\n",
    "        print(f'Epoch [{epoch+1}/{n_epochs_ssae}], Loss: {loss.item():.4f}')"
   ]
  },
  {
   "cell_type": "markdown",
   "metadata": {
    "id": "KNxDAlFBKApN"
   },
   "source": [
    "## 모델 평가함수 및 실행"
   ]
  },
  {
   "cell_type": "code",
   "execution_count": 423,
   "metadata": {
    "id": "yXpRxDP8W6Zo"
   },
   "outputs": [],
   "source": [
    "# 평가함수 정의\n",
    "def evaluate_model(model, X_train, X_test, y_train, y_test):\n",
    "    model.fit(X_train, y_train)\n",
    "    y_pred = model.predict(X_test)\n",
    "        \n",
    "    accuracy = accuracy_score(y_test, y_pred)\n",
    "    precision = precision_score(y_test, y_pred)\n",
    "    recall = recall_score(y_test, y_pred)\n",
    "    f1 = f1_score(y_test, y_pred)\n",
    "\n",
    "    print(f\"Accuracy: {accuracy:.4f}, Precision: {precision:.4f}, Recall: {recall:.4f}, F1 Score: {f1:.4f}\")\n",
    "    \n",
    "    cm = confusion_matrix(y_test, y_pred)\n",
    "    disp = ConfusionMatrixDisplay(confusion_matrix=cm)\n",
    "    disp.plot()\n",
    "    plt.show()"
   ]
  },
  {
   "cell_type": "code",
   "execution_count": 424,
   "metadata": {
    "id": "81YDhprUKApO"
   },
   "outputs": [],
   "source": [
    "# Shapley Value 계산, 시각화 함수 정의\n",
    "def evaluate_models_shap1(model, X_train_encoded_ssae, X_test_encoded_ssae):\n",
    "    masker = shap.maskers.Independent(X_train_encoded_ssae)\n",
    "    explainer = shap.LinearExplainer(model, masker=masker)\n",
    "    shap_values = explainer(X_test_encoded_ssae)\n",
    "\n",
    "    # summary_plot을 사용한 Shapley Value 시각화\n",
    "    shap.summary_plot(shap_values, X_test_encoded_ssae, feature_names=[f\"Encoded_{i}\" for i in range(X_test_encoded_ssae.shape[1])])\n",
    "\n",
    "def evaluate_models_shap2(model, X_test_encoded_ssae):\n",
    "    # TreeExplainer를 사용한 Shapley Value 계산\n",
    "    explainer = shap.TreeExplainer(model)\n",
    "    shap_values = explainer.shap_values(X_test_encoded_ssae)\n",
    "\n",
    "    # summary_plot을 사용한 Shapley Value 시각화\n",
    "    shap.summary_plot(shap_values, X_test_encoded_ssae, feature_names=[f\"Encoded_{i}\" for i in range(X_test_encoded_ssae.shape[1])])\n"
   ]
  },
  {
   "cell_type": "code",
   "execution_count": 425,
   "metadata": {
    "id": "D6GIT1bg23Ny"
   },
   "outputs": [],
   "source": [
    "# ShapleyValue 계산, 시각화함수 정의 (TabNet 전용)\n",
    "def evaluate_models_shap_tabnet(model, X_train_encoded_ssae, X_test_encoded_ssae):\n",
    "    # DeepExplainer를 사용한 Shapley Value 계산 (TabNet 전용)\n",
    "    explainer = DeepExplainer(model, X_train_encoded_ssae)\n",
    "    shap_values = explainer.shap_values(X_test_encoded_ssae)\n",
    "\n",
    "    # summary_plot을 사용한 Shapley Value 시각화\n",
    "    shap.summary_plot(shap_values, X_test_encoded_ssae, feature_names=[f\"Encoded_{i}\" for i in range(X_test_encoded_ssae.shape[1])])"
   ]
  },
  {
   "cell_type": "code",
   "execution_count": 426,
   "metadata": {},
   "outputs": [],
   "source": [
    "# 교차 검증(CV)을 위한 함수 정의\n",
    "def cross_validate_model(model, X, y, cv=cv):\n",
    "    scores = cross_val_score(model, X, y, cv=cv, scoring='accuracy')\n",
    "    print(f\"Cross-validation scores: {scores}\")"
   ]
  },
  {
   "cell_type": "markdown",
   "metadata": {},
   "source": [
    "# 원래 피처와 SSAE로 변환된 피처들을 결합하는 새로운 파이프라인 정의\n",
    "combined_transformer = CombinedSSAEAndOriginalFeatures(ssae_transformer=SSAETransformer(input_dim=input_dim), \n",
    "                                                       original_features=X_feature)"
   ]
  },
  {
   "cell_type": "markdown",
   "metadata": {
    "colab": {
     "base_uri": "https://localhost:8080/"
    },
    "id": "iISLdev9Zbx9",
    "outputId": "2cecf897-ab9a-4b5d-9b6b-4bdee3fde8e6"
   },
   "source": [
    "# 모델 정의 및 파이프라인 연결\n",
    "linear_models = {\n",
    "    \"Logistic Regression\": Pipeline([\n",
    "        ('combine', combined_transformer),    # SSAE와 원래 피처 결합\n",
    "        ('model', LogisticRegression(max_iter=1000))  # 최종 모델\n",
    "    ]),\n",
    "}\n",
    "\n",
    "ensemble_models = {\n",
    "    \"Random Forest Classifier\": Pipeline([\n",
    "        ('combine', combined_transformer),    # SSAE와 원래 피처 결합\n",
    "        ('model', RandomForestClassifier())  # 최종 모델\n",
    "    ]),\n",
    "    \"XGBoost Classifier\": Pipeline([\n",
    "        ('combine', combined_transformer),    # SSAE와 원래 피처 결합\n",
    "        ('model', xgb.XGBClassifier())  # 최종 모델\n",
    "    ]),\n",
    "    \"LightGBM Classifier\": Pipeline([\n",
    "        ('combine', combined_transformer),    # SSAE와 원래 피처 결합\n",
    "        ('model', lgbm.LGBMClassifier())  # 최종 모델\n",
    "    ]),\n",
    "}\n",
    "\n",
    "tabnet_model = {\n",
    "    \"TabNet Classifier\": Pipeline([\n",
    "        ('combine', combined_transformer),    # SSAE와 원래 피처 결합\n",
    "        ('model', TabNetClassifier())  # 최종 모델로 TabNet 추가\n",
    "    ]), \n",
    "}"
   ]
  },
  {
   "cell_type": "markdown",
   "metadata": {
    "id": "m--PCaKlKApO"
   },
   "source": [
    "## 테스트세트로 평가하기"
   ]
  },
  {
   "cell_type": "markdown",
   "metadata": {
    "colab": {
     "base_uri": "https://localhost:8080/",
     "height": 373
    },
    "id": "0wvLrc6GZpON",
    "outputId": "2b5ac118-ba13-46f6-9056-f64095afa5f0"
   },
   "source": [
    "for model_name, pipeline in linear_models.items():\n",
    "    print(f\"** Evaluating {model_name}:\")\n",
    "    pipeline.fit(X_train_encoded_ssae, y_train)\n",
    "    evaluate_model(pipeline, X_train_encoded_ssae, X_test_encoded_ssae, y_train, y_test)\n",
    "\n",
    "    print(f\"** Evaluating {model_name}'s Shapley Value (LinearExplainer): \")\n",
    "    evaluate_models_shap1(pipeline.named_steps['model'], X_train_encoded_ssae, X_test_encoded_ssae)\n"
   ]
  },
  {
   "cell_type": "code",
   "execution_count": 477,
   "metadata": {},
   "outputs": [
    {
     "name": "stdout",
     "output_type": "stream",
     "text": [
      "** Evaluating XGBoost Classifier:\n"
     ]
    }
   ],
   "source": [
    "model_name = 'XGBoost Classifier'\n",
    "model = xgb.XGBClassifier(n_estimators=100000, eval_metric='auc', learning_rate=1, alpha=1, reg_lambda=2)\n",
    "print(f\"** Evaluating {model_name}:\")\n",
    "\n",
    "X_train_encoded = pd.concat(\n",
    "                    [X_train[num_list],\n",
    "                    pd.DataFrame(ssae_model.encoder(torch.FloatTensor(X_train[encoding_target].to_numpy()).to(device)).detach().numpy(),\n",
    "                                 index=X_train.index, columns=[f'e{i}' for i in range(latent_size)])],\n",
    "                    axis=1)\n",
    "\n",
    "X_test_encoded = pd.concat(\n",
    "                    [X_test[num_list],\n",
    "                    pd.DataFrame(ssae_model.encoder(torch.FloatTensor(X_test[encoding_target].to_numpy()).to(device)).detach().numpy(),\n",
    "                                 index=X_test.index, columns=[f'e{i}' for i in range(latent_size)])],\n",
    "                    axis=1)"
   ]
  },
  {
   "cell_type": "code",
   "execution_count": null,
   "metadata": {},
   "outputs": [
    {
     "name": "stdout",
     "output_type": "stream",
     "text": [
      "loan_status_encoded\n",
      "0    55345\n",
      "1    11264\n",
      "Name: count, dtype: int64\n"
     ]
    }
   ],
   "source": [
    "%%time\n",
    "print(y_test.value_counts())\n",
    "evaluate_model(model, X_train_encoded, X_test_encoded, y_train, y_test)\n",
    "\n",
    "print(f\"** Evaluating {model_name}'s Shapley Value (LinearExplainer): \")\n",
    "#evaluate_models_shap1(pipeline.named_steps['model'], X_train_encoded_ssae, X_test_encoded_ssae)"
   ]
  },
  {
   "cell_type": "code",
   "execution_count": 470,
   "metadata": {},
   "outputs": [
    {
     "name": "stdout",
     "output_type": "stream",
     "text": [
      "Accuracy: 1.0000, Precision: 1.0000, Recall: 1.0000, F1 Score: 1.0000\n"
     ]
    },
    {
     "data": {
      "image/png": "[encoded data removed]",
      "text/plain": [
       "<Figure size 640x480 with 2 Axes>"
      ]
     },
     "metadata": {},
     "output_type": "display_data"
    }
   ],
   "source": [
    "evaluate_model(model, X_train_encoded, X_train_encoded, y_train, y_train)"
   ]
  },
  {
   "cell_type": "code",
   "execution_count": 396,
   "metadata": {
    "colab": {
     "base_uri": "https://localhost:8080/",
     "height": 1000
    },
    "id": "y5BDEC4amXir",
    "outputId": "243c531f-f55a-4e08-d85b-ede995a8b969"
   },
   "outputs": [
    {
     "ename": "NameError",
     "evalue": "name 'ensemble_models' is not defined",
     "output_type": "error",
     "traceback": [
      "\u001b[0;31m---------------------------------------------------------------------------\u001b[0m",
      "\u001b[0;31mNameError\u001b[0m                                 Traceback (most recent call last)",
      "Cell \u001b[0;32mIn[396], line 1\u001b[0m\n\u001b[0;32m----> 1\u001b[0m \u001b[38;5;28;01mfor\u001b[39;00m model_name, pipeline \u001b[38;5;129;01min\u001b[39;00m \u001b[43mensemble_models\u001b[49m\u001b[38;5;241m.\u001b[39mitems():\n\u001b[1;32m      2\u001b[0m     \u001b[38;5;28mprint\u001b[39m(\u001b[38;5;124mf\u001b[39m\u001b[38;5;124m\"\u001b[39m\u001b[38;5;124m** Evaluating \u001b[39m\u001b[38;5;132;01m{\u001b[39;00mmodel_name\u001b[38;5;132;01m}\u001b[39;00m\u001b[38;5;124m on SSAE Encoded Data: \u001b[39m\u001b[38;5;124m\"\u001b[39m)\n\u001b[1;32m      3\u001b[0m     inputs \u001b[38;5;241m=\u001b[39m ssae_model\u001b[38;5;241m.\u001b[39mencoder(torch\u001b[38;5;241m.\u001b[39mFloatTensor(X_train[encoding_target]\u001b[38;5;241m.\u001b[39mto_numpy())\u001b[38;5;241m.\u001b[39mto(device))\n",
      "\u001b[0;31mNameError\u001b[0m: name 'ensemble_models' is not defined"
     ]
    }
   ],
   "source": [
    "for model_name, pipeline in ensemble_models.items():\n",
    "    print(f\"** Evaluating {model_name} on SSAE Encoded Data: \")\n",
    "    inputs = ssae_model.encoder(torch.FloatTensor(X_train[encoding_target].to_numpy()).to(device))\n",
    "    pipeline.fit(X_train_encoded_ssae, y_train)\n",
    "    evaluate_model(pipeline, X_train_encoded_ssae, X_test_encoded_ssae, y_train, y_test)\n",
    "\n",
    "    print(f\"** Evaluating {model_name}'s Shapley Value (TreeExplainer): \")\n",
    "    evaluate_models_shap2(pipeline.named_steps['model'], X_test_encoded_ssae)"
   ]
  },
  {
   "cell_type": "code",
   "execution_count": null,
   "metadata": {},
   "outputs": [],
   "source": []
  }
 ],
 "metadata": {
  "colab": {
   "provenance": []
  },
  "kernelspec": {
   "display_name": "Python 3 (ipykernel)",
   "language": "python",
   "name": "python3"
  },
  "language_info": {
   "codemirror_mode": {
    "name": "ipython",
    "version": 3
   },
   "file_extension": ".py",
   "mimetype": "text/x-python",
   "name": "python",
   "nbconvert_exporter": "python",
   "pygments_lexer": "ipython3",
   "version": "3.12.4"
  },
  "nav_menu": {
   "height": "279px",
   "width": "309px"
  },
  "toc": {
   "nav_menu": {},
   "number_sections": true,
   "sideBar": true,
   "skip_h1_title": false,
   "toc_cell": false,
   "toc_position": {},
   "toc_section_display": "block",
   "toc_window_display": false
  }
 },
 "nbformat": 4,
 "nbformat_minor": 4
}
