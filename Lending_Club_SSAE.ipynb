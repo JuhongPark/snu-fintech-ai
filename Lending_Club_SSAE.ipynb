{
  "cells": [
    {
      "cell_type": "markdown",
      "metadata": {
        "id": "5Q35P2ummXim"
      },
      "source": [
        "<table align=\"left\">\n",
        "  <td>\n",
        "    <a href=\"https://colab.research.google.com/github/JuhongPark/snu-fintech-ai/blob/main/Lending_Club_SSAE.ipynb\" target=\"_parent\"><img src=\"https://colab.research.google.com/assets/colab-badge.svg\" alt=\"Open In Colab\"/></a>\n",
        "  </td>\n",
        "</table>"
      ]
    },
    {
      "cell_type": "markdown",
      "metadata": {
        "id": "2WyoEfeVoyh-"
      },
      "source": [
        "# 데이터 가져오기 및 전처리"
      ]
    },
    {
      "cell_type": "code",
      "execution_count": 38,
      "metadata": {},
      "outputs": [],
      "source": [
        "# 테스트런 설정\n",
        "is_test = True"
      ]
    },
    {
      "cell_type": "code",
      "execution_count": 39,
      "metadata": {},
      "outputs": [],
      "source": [
        "# seed 값 설정\n",
        "seed = 42\n",
        "\n",
        "# 입력 변수 파라미터\n",
        "target = 'loan_status_encoded'\n",
        "drop_list = ['id', 'int_rate', 'installment', 'sub_grade']\n",
        "feature_list = ['loan_amnt', 'emp_length', 'revol_util', 'pub_rec', 'fico_range_high', 'fico_range_low', 'percent_bc_gt_75']\n",
        "\n",
        "# 대출 이후 변수\n",
        "post_list = ['Funded_amnt', 'funded_amnt_inv', 'collection_recovery_fee', 'collections_12_mths_ex_med', 'last_credit_pull_d', 'last_pymnt_amnt', 'last_pymnt_d',\n",
        " 'mths_since_last_major_derog', 'next_pymnt_d', 'out_prncp', 'out_prncp_inv', 'recoveries', 'total_pymnt', 'total_pymnt_inv', 'total_rec_int', 'total_rec_late_fee',\n",
        " 'total_rec_prncp', 'hardship_flag', 'hardship_type', 'hardship_reason', 'hardship_status', 'deferral_term', 'hardship_amount', 'hardship_start_date', 'hardship_end_date',\n",
        " 'payment_plan_start_date', 'hardship_length', 'hardship_dpd', 'hardship_loan_status', 'orig_projected_additional_accrued_interest', 'hardship_payoff_balance_amount',\n",
        " 'hardship_last_payment_amount', 'debt_settlement_flag', 'last_fico_range_high', 'last_fico_range_low']\n",
        "\n",
        "# 모델 파라미터 설정\n",
        "# For model\n",
        "learning_rate = 0.01\n",
        "\n",
        "# For training\n",
        "n_epochs = 10000\n",
        "\n",
        "# 테스트 런일 경우, 에포크 수를 줄임\n",
        "if is_test:\n",
        "    n_epochs = 10"
      ]
    },
    {
      "cell_type": "code",
      "execution_count": 40,
      "metadata": {
        "colab": {
          "base_uri": "https://localhost:8080/"
        },
        "id": "ATZ3E7NEKApJ",
        "outputId": "653a45fc-17ab-47e4-b4ae-5360f61fcec2"
      },
      "outputs": [],
      "source": [
        "import random\n",
        "import pandas as pd\n",
        "import numpy as np\n",
        "import torch\n",
        "import torch.nn as nn\n",
        "import torch.optim as optim\n",
        "from sklearn.model_selection import train_test_split\n",
        "from sklearn.preprocessing import StandardScaler\n",
        "from sklearn.metrics import accuracy_score, precision_score, recall_score, f1_score, r2_score\n",
        "import shap\n",
        "from sklearn.ensemble import RandomForestClassifier\n",
        "from pytorch_tabnet.tab_model import TabNetClassifier\n",
        "from sklearn.linear_model import LogisticRegression\n",
        "import xgboost as xgb\n",
        "import lightgbm as lgbm\n",
        "from sklearn.pipeline import Pipeline\n",
        "import matplotlib.pyplot as plt\n",
        "from sklearn.metrics import confusion_matrix, ConfusionMatrixDisplay"
      ]
    },
    {
      "cell_type": "code",
      "execution_count": 41,
      "metadata": {},
      "outputs": [],
      "source": [
        "# Random Seed 설정\n",
        "def set_random_seed(seed):\n",
        "    random.seed(seed) # 파이썬 표준 라이브러리\n",
        "    np.random.seed(seed) # numpy의 random 모듈에서 사용하는 seed\n",
        "    torch.manual_seed(seed) # pytorch에서 사용하는 seed\n",
        "    if torch.cuda.is_available(): # GPU에서 실행되는 PyTorch 연산의 무작위성을 제어\n",
        "        torch.cuda.manual_seed(seed)\n",
        "        torch.cuda.manual_seed_all(seed)"
      ]
    },
    {
      "cell_type": "code",
      "execution_count": 42,
      "metadata": {},
      "outputs": [],
      "source": [
        "# seed 값 설정\n",
        "set_random_seed(seed)"
      ]
    },
    {
      "cell_type": "markdown",
      "metadata": {
        "id": "Ans_U0Bqoyh-"
      },
      "source": [
        "## 데이터 다운로드하기"
      ]
    },
    {
      "cell_type": "code",
      "execution_count": 5,
      "metadata": {
        "colab": {
          "base_uri": "https://localhost:8080/"
        },
        "id": "zI6kC6DqO2qA",
        "outputId": "b2b31a78-0809-42ee-967c-03c5c5e2916f"
      },
      "outputs": [
        {
          "name": "stdout",
          "output_type": "stream",
          "text": [
            "Mounted at /content/drive\n"
          ]
        }
      ],
      "source": [
        "# from google.colab import drive\n",
        "# drive.mount('/content/drive')"
      ]
    },
    {
      "cell_type": "code",
      "execution_count": 43,
      "metadata": {
        "id": "mn3BhYVohcPI"
      },
      "outputs": [],
      "source": [
        "# 모든 행이 화면에 표시되도록 설정합니다.\n",
        "# pd.set_option('display.max_rows', None)\n",
        "\n",
        "# file_path = '/content/drive/MyDrive/SNUKDT/Lending Club/LC_Data_Cleaned_2.csv'\n",
        "# df = pd.read_csv(file_path)\n",
        "\n",
        "\n",
        "# 모든 행이 화면에 표시되도록 설정합니다.\n",
        "pd.set_option('display.max_rows', None)\n",
        "\n",
        "file_path = '../LendingClub/LC_Data_Cleaned_2.csv'\n",
        "df = pd.read_csv(file_path)\n",
        "\n",
        "# 테스트 런일 경우, 데이터 크기 줄이기\n",
        "if is_test:\n",
        "    df = df.sample(frac=0.01, random_state=seed)"
      ]
    },
    {
      "cell_type": "markdown",
      "metadata": {
        "id": "x0DpvFHJoyh-"
      },
      "source": [
        "## 데이터 구조 훑어 보기"
      ]
    },
    {
      "cell_type": "code",
      "execution_count": 22,
      "metadata": {
        "colab": {
          "base_uri": "https://localhost:8080/",
          "height": 256
        },
        "id": "eIAt4-Y_oyh-",
        "outputId": "537e79ec-50cb-4a7f-d6f3-e25d5f9b6667"
      },
      "outputs": [
        {
          "data": {
            "text/html": [
              "<div>\n",
              "<style scoped>\n",
              "    .dataframe tbody tr th:only-of-type {\n",
              "        vertical-align: middle;\n",
              "    }\n",
              "\n",
              "    .dataframe tbody tr th {\n",
              "        vertical-align: top;\n",
              "    }\n",
              "\n",
              "    .dataframe thead th {\n",
              "        text-align: right;\n",
              "    }\n",
              "</style>\n",
              "<table border=\"1\" class=\"dataframe\">\n",
              "  <thead>\n",
              "    <tr style=\"text-align: right;\">\n",
              "      <th></th>\n",
              "      <th>id</th>\n",
              "      <th>loan_amnt</th>\n",
              "      <th>term</th>\n",
              "      <th>int_rate</th>\n",
              "      <th>installment</th>\n",
              "      <th>sub_grade</th>\n",
              "      <th>emp_length</th>\n",
              "      <th>home_ownership</th>\n",
              "      <th>annual_inc</th>\n",
              "      <th>verification_status</th>\n",
              "      <th>...</th>\n",
              "      <th>num_tl_op_past_12m</th>\n",
              "      <th>pct_tl_nvr_dlq</th>\n",
              "      <th>percent_bc_gt_75</th>\n",
              "      <th>pub_rec_bankruptcies</th>\n",
              "      <th>tax_liens</th>\n",
              "      <th>tot_hi_cred_lim</th>\n",
              "      <th>total_bal_ex_mort</th>\n",
              "      <th>total_bc_limit</th>\n",
              "      <th>total_il_high_credit_limit</th>\n",
              "      <th>loan_status_encoded</th>\n",
              "    </tr>\n",
              "  </thead>\n",
              "  <tbody>\n",
              "    <tr>\n",
              "      <th>0</th>\n",
              "      <td>6519928</td>\n",
              "      <td>12800.0</td>\n",
              "      <td>0</td>\n",
              "      <td>0.1433</td>\n",
              "      <td>439.53</td>\n",
              "      <td>C2</td>\n",
              "      <td>1.0</td>\n",
              "      <td>0</td>\n",
              "      <td>132500.0</td>\n",
              "      <td>1</td>\n",
              "      <td>...</td>\n",
              "      <td>3.0</td>\n",
              "      <td>88.0</td>\n",
              "      <td>50.0</td>\n",
              "      <td>0.0</td>\n",
              "      <td>0.0</td>\n",
              "      <td>393952.0</td>\n",
              "      <td>79834.0</td>\n",
              "      <td>8593.0</td>\n",
              "      <td>82659.0</td>\n",
              "      <td>0</td>\n",
              "    </tr>\n",
              "    <tr>\n",
              "      <th>1</th>\n",
              "      <td>26359465</td>\n",
              "      <td>24000.0</td>\n",
              "      <td>0</td>\n",
              "      <td>0.0769</td>\n",
              "      <td>748.65</td>\n",
              "      <td>A4</td>\n",
              "      <td>10.0</td>\n",
              "      <td>0</td>\n",
              "      <td>70000.0</td>\n",
              "      <td>0</td>\n",
              "      <td>...</td>\n",
              "      <td>0.0</td>\n",
              "      <td>100.0</td>\n",
              "      <td>100.0</td>\n",
              "      <td>0.0</td>\n",
              "      <td>0.0</td>\n",
              "      <td>126684.0</td>\n",
              "      <td>25691.0</td>\n",
              "      <td>22600.0</td>\n",
              "      <td>21384.0</td>\n",
              "      <td>0</td>\n",
              "    </tr>\n",
              "    <tr>\n",
              "      <th>2</th>\n",
              "      <td>13897978</td>\n",
              "      <td>18000.0</td>\n",
              "      <td>0</td>\n",
              "      <td>0.1249</td>\n",
              "      <td>602.08</td>\n",
              "      <td>B4</td>\n",
              "      <td>2.0</td>\n",
              "      <td>0</td>\n",
              "      <td>69500.0</td>\n",
              "      <td>0</td>\n",
              "      <td>...</td>\n",
              "      <td>2.0</td>\n",
              "      <td>97.8</td>\n",
              "      <td>100.0</td>\n",
              "      <td>0.0</td>\n",
              "      <td>0.0</td>\n",
              "      <td>271341.0</td>\n",
              "      <td>137583.0</td>\n",
              "      <td>4600.0</td>\n",
              "      <td>129718.0</td>\n",
              "      <td>1</td>\n",
              "    </tr>\n",
              "    <tr>\n",
              "      <th>3</th>\n",
              "      <td>15429979</td>\n",
              "      <td>5600.0</td>\n",
              "      <td>0</td>\n",
              "      <td>0.1099</td>\n",
              "      <td>183.32</td>\n",
              "      <td>B3</td>\n",
              "      <td>0.0</td>\n",
              "      <td>1</td>\n",
              "      <td>42000.0</td>\n",
              "      <td>0</td>\n",
              "      <td>...</td>\n",
              "      <td>1.0</td>\n",
              "      <td>88.9</td>\n",
              "      <td>100.0</td>\n",
              "      <td>0.0</td>\n",
              "      <td>0.0</td>\n",
              "      <td>22593.0</td>\n",
              "      <td>13074.0</td>\n",
              "      <td>2100.0</td>\n",
              "      <td>16093.0</td>\n",
              "      <td>0</td>\n",
              "    </tr>\n",
              "    <tr>\n",
              "      <th>4</th>\n",
              "      <td>8975826</td>\n",
              "      <td>5600.0</td>\n",
              "      <td>0</td>\n",
              "      <td>0.1620</td>\n",
              "      <td>197.44</td>\n",
              "      <td>C4</td>\n",
              "      <td>4.0</td>\n",
              "      <td>1</td>\n",
              "      <td>60000.0</td>\n",
              "      <td>0</td>\n",
              "      <td>...</td>\n",
              "      <td>1.0</td>\n",
              "      <td>100.0</td>\n",
              "      <td>100.0</td>\n",
              "      <td>0.0</td>\n",
              "      <td>0.0</td>\n",
              "      <td>51804.0</td>\n",
              "      <td>41327.0</td>\n",
              "      <td>19600.0</td>\n",
              "      <td>28775.0</td>\n",
              "      <td>1</td>\n",
              "    </tr>\n",
              "  </tbody>\n",
              "</table>\n",
              "<p>5 rows × 61 columns</p>\n",
              "</div>"
            ],
            "text/plain": [
              "         id  loan_amnt  term  int_rate  installment sub_grade  emp_length  \\\n",
              "0   6519928    12800.0     0    0.1433       439.53        C2         1.0   \n",
              "1  26359465    24000.0     0    0.0769       748.65        A4        10.0   \n",
              "2  13897978    18000.0     0    0.1249       602.08        B4         2.0   \n",
              "3  15429979     5600.0     0    0.1099       183.32        B3         0.0   \n",
              "4   8975826     5600.0     0    0.1620       197.44        C4         4.0   \n",
              "\n",
              "   home_ownership  annual_inc  verification_status  ...  num_tl_op_past_12m  \\\n",
              "0               0    132500.0                    1  ...                 3.0   \n",
              "1               0     70000.0                    0  ...                 0.0   \n",
              "2               0     69500.0                    0  ...                 2.0   \n",
              "3               1     42000.0                    0  ...                 1.0   \n",
              "4               1     60000.0                    0  ...                 1.0   \n",
              "\n",
              "   pct_tl_nvr_dlq  percent_bc_gt_75  pub_rec_bankruptcies  tax_liens  \\\n",
              "0            88.0              50.0                   0.0        0.0   \n",
              "1           100.0             100.0                   0.0        0.0   \n",
              "2            97.8             100.0                   0.0        0.0   \n",
              "3            88.9             100.0                   0.0        0.0   \n",
              "4           100.0             100.0                   0.0        0.0   \n",
              "\n",
              "   tot_hi_cred_lim  total_bal_ex_mort  total_bc_limit  \\\n",
              "0         393952.0            79834.0          8593.0   \n",
              "1         126684.0            25691.0         22600.0   \n",
              "2         271341.0           137583.0          4600.0   \n",
              "3          22593.0            13074.0          2100.0   \n",
              "4          51804.0            41327.0         19600.0   \n",
              "\n",
              "   total_il_high_credit_limit  loan_status_encoded  \n",
              "0                     82659.0                    0  \n",
              "1                     21384.0                    0  \n",
              "2                    129718.0                    1  \n",
              "3                     16093.0                    0  \n",
              "4                     28775.0                    1  \n",
              "\n",
              "[5 rows x 61 columns]"
            ]
          },
          "execution_count": 22,
          "metadata": {},
          "output_type": "execute_result"
        }
      ],
      "source": [
        "df.head()"
      ]
    },
    {
      "cell_type": "code",
      "execution_count": 23,
      "metadata": {
        "colab": {
          "base_uri": "https://localhost:8080/"
        },
        "id": "CauMz5Sloyh_",
        "outputId": "0208fe93-c63a-4bdc-b1e5-a8c8b9c94398"
      },
      "outputs": [
        {
          "name": "stdout",
          "output_type": "stream",
          "text": [
            "<class 'pandas.core.frame.DataFrame'>\n",
            "RangeIndex: 75090 entries, 0 to 75089\n",
            "Data columns (total 61 columns):\n",
            " #   Column                          Non-Null Count  Dtype  \n",
            "---  ------                          --------------  -----  \n",
            " 0   id                              75090 non-null  int64  \n",
            " 1   loan_amnt                       75090 non-null  float64\n",
            " 2   term                            75090 non-null  int64  \n",
            " 3   int_rate                        75090 non-null  float64\n",
            " 4   installment                     75090 non-null  float64\n",
            " 5   sub_grade                       75090 non-null  object \n",
            " 6   emp_length                      75090 non-null  float64\n",
            " 7   home_ownership                  75090 non-null  int64  \n",
            " 8   annual_inc                      75090 non-null  float64\n",
            " 9   verification_status             75090 non-null  int64  \n",
            " 10  dti                             75090 non-null  float64\n",
            " 11  delinq_2yrs                     75090 non-null  float64\n",
            " 12  earliest_cr_line                75090 non-null  float64\n",
            " 13  fico_range_low                  75090 non-null  float64\n",
            " 14  fico_range_high                 75090 non-null  float64\n",
            " 15  inq_last_6mths                  75090 non-null  float64\n",
            " 16  mths_since_last_delinq          75090 non-null  float64\n",
            " 17  mths_since_last_record          75090 non-null  float64\n",
            " 18  open_acc                        75090 non-null  float64\n",
            " 19  pub_rec                         75090 non-null  float64\n",
            " 20  revol_bal                       75090 non-null  float64\n",
            " 21  revol_util                      75090 non-null  float64\n",
            " 22  total_acc                       75090 non-null  float64\n",
            " 23  last_credit_pull_d              75081 non-null  object \n",
            " 24  tot_coll_amt                    75090 non-null  float64\n",
            " 25  tot_cur_bal                     75090 non-null  float64\n",
            " 26  total_rev_hi_lim                75090 non-null  float64\n",
            " 27  acc_open_past_24mths            75090 non-null  float64\n",
            " 28  avg_cur_bal                     75090 non-null  float64\n",
            " 29  bc_open_to_buy                  75090 non-null  float64\n",
            " 30  bc_util                         75090 non-null  float64\n",
            " 31  mo_sin_old_il_acct              75090 non-null  float64\n",
            " 32  mo_sin_old_rev_tl_op            75090 non-null  float64\n",
            " 33  mo_sin_rcnt_rev_tl_op           75090 non-null  float64\n",
            " 34  mo_sin_rcnt_tl                  75090 non-null  float64\n",
            " 35  mort_acc                        75090 non-null  float64\n",
            " 36  mths_since_recent_bc            75090 non-null  float64\n",
            " 37  mths_since_recent_bc_dlq        75090 non-null  float64\n",
            " 38  mths_since_recent_inq           75090 non-null  float64\n",
            " 39  mths_since_recent_revol_delinq  75090 non-null  float64\n",
            " 40  num_accts_ever_120_pd           75090 non-null  float64\n",
            " 41  num_actv_bc_tl                  75090 non-null  float64\n",
            " 42  num_actv_rev_tl                 75090 non-null  float64\n",
            " 43  num_bc_sats                     75090 non-null  float64\n",
            " 44  num_bc_tl                       75090 non-null  float64\n",
            " 45  num_il_tl                       75090 non-null  float64\n",
            " 46  num_op_rev_tl                   75090 non-null  float64\n",
            " 47  num_rev_accts                   75090 non-null  float64\n",
            " 48  num_rev_tl_bal_gt_0             75090 non-null  float64\n",
            " 49  num_sats                        75090 non-null  float64\n",
            " 50  num_tl_90g_dpd_24m              75090 non-null  float64\n",
            " 51  num_tl_op_past_12m              75090 non-null  float64\n",
            " 52  pct_tl_nvr_dlq                  75090 non-null  float64\n",
            " 53  percent_bc_gt_75                75090 non-null  float64\n",
            " 54  pub_rec_bankruptcies            75090 non-null  float64\n",
            " 55  tax_liens                       75090 non-null  float64\n",
            " 56  tot_hi_cred_lim                 75090 non-null  float64\n",
            " 57  total_bal_ex_mort               75090 non-null  float64\n",
            " 58  total_bc_limit                  75090 non-null  float64\n",
            " 59  total_il_high_credit_limit      75090 non-null  float64\n",
            " 60  loan_status_encoded             75090 non-null  int64  \n",
            "dtypes: float64(54), int64(5), object(2)\n",
            "memory usage: 34.9+ MB\n"
          ]
        }
      ],
      "source": [
        "df.info()"
      ]
    },
    {
      "cell_type": "code",
      "execution_count": 24,
      "metadata": {
        "colab": {
          "base_uri": "https://localhost:8080/"
        },
        "id": "cHRwx1mIQAvx",
        "outputId": "5a4f327b-81e8-4808-9be8-147113d33c26"
      },
      "outputs": [
        {
          "data": {
            "text/plain": [
              "(75090, 61)"
            ]
          },
          "execution_count": 24,
          "metadata": {},
          "output_type": "execute_result"
        }
      ],
      "source": [
        "df.shape"
      ]
    },
    {
      "cell_type": "code",
      "execution_count": 25,
      "metadata": {
        "colab": {
          "base_uri": "https://localhost:8080/",
          "height": 1000
        },
        "id": "834eyNhpmEWc",
        "outputId": "25683014-344a-4cb3-cc4e-3bf625fff495"
      },
      "outputs": [
        {
          "data": {
            "text/plain": [
              "id                                  int64\n",
              "loan_amnt                         float64\n",
              "term                                int64\n",
              "int_rate                          float64\n",
              "installment                       float64\n",
              "sub_grade                          object\n",
              "emp_length                        float64\n",
              "home_ownership                      int64\n",
              "annual_inc                        float64\n",
              "verification_status                 int64\n",
              "dti                               float64\n",
              "delinq_2yrs                       float64\n",
              "earliest_cr_line                  float64\n",
              "fico_range_low                    float64\n",
              "fico_range_high                   float64\n",
              "inq_last_6mths                    float64\n",
              "mths_since_last_delinq            float64\n",
              "mths_since_last_record            float64\n",
              "open_acc                          float64\n",
              "pub_rec                           float64\n",
              "revol_bal                         float64\n",
              "revol_util                        float64\n",
              "total_acc                         float64\n",
              "last_credit_pull_d                 object\n",
              "tot_coll_amt                      float64\n",
              "tot_cur_bal                       float64\n",
              "total_rev_hi_lim                  float64\n",
              "acc_open_past_24mths              float64\n",
              "avg_cur_bal                       float64\n",
              "bc_open_to_buy                    float64\n",
              "bc_util                           float64\n",
              "mo_sin_old_il_acct                float64\n",
              "mo_sin_old_rev_tl_op              float64\n",
              "mo_sin_rcnt_rev_tl_op             float64\n",
              "mo_sin_rcnt_tl                    float64\n",
              "mort_acc                          float64\n",
              "mths_since_recent_bc              float64\n",
              "mths_since_recent_bc_dlq          float64\n",
              "mths_since_recent_inq             float64\n",
              "mths_since_recent_revol_delinq    float64\n",
              "num_accts_ever_120_pd             float64\n",
              "num_actv_bc_tl                    float64\n",
              "num_actv_rev_tl                   float64\n",
              "num_bc_sats                       float64\n",
              "num_bc_tl                         float64\n",
              "num_il_tl                         float64\n",
              "num_op_rev_tl                     float64\n",
              "num_rev_accts                     float64\n",
              "num_rev_tl_bal_gt_0               float64\n",
              "num_sats                          float64\n",
              "num_tl_90g_dpd_24m                float64\n",
              "num_tl_op_past_12m                float64\n",
              "pct_tl_nvr_dlq                    float64\n",
              "percent_bc_gt_75                  float64\n",
              "pub_rec_bankruptcies              float64\n",
              "tax_liens                         float64\n",
              "tot_hi_cred_lim                   float64\n",
              "total_bal_ex_mort                 float64\n",
              "total_bc_limit                    float64\n",
              "total_il_high_credit_limit        float64\n",
              "loan_status_encoded                 int64\n",
              "dtype: object"
            ]
          },
          "execution_count": 25,
          "metadata": {},
          "output_type": "execute_result"
        }
      ],
      "source": [
        "df.dtypes"
      ]
    },
    {
      "cell_type": "markdown",
      "metadata": {
        "id": "kxjdTP4gKApM"
      },
      "source": [
        "## 데이터 전처리"
      ]
    },
    {
      "cell_type": "code",
      "execution_count": 27,
      "metadata": {
        "colab": {
          "base_uri": "https://localhost:8080/",
          "height": 256
        },
        "id": "L42IMY2hKSEO",
        "outputId": "c428f136-6ace-4ed8-f5fe-b90c4949fd50"
      },
      "outputs": [
        {
          "data": {
            "text/html": [
              "<div>\n",
              "<style scoped>\n",
              "    .dataframe tbody tr th:only-of-type {\n",
              "        vertical-align: middle;\n",
              "    }\n",
              "\n",
              "    .dataframe tbody tr th {\n",
              "        vertical-align: top;\n",
              "    }\n",
              "\n",
              "    .dataframe thead th {\n",
              "        text-align: right;\n",
              "    }\n",
              "</style>\n",
              "<table border=\"1\" class=\"dataframe\">\n",
              "  <thead>\n",
              "    <tr style=\"text-align: right;\">\n",
              "      <th></th>\n",
              "      <th>loan_amnt</th>\n",
              "      <th>term</th>\n",
              "      <th>emp_length</th>\n",
              "      <th>home_ownership</th>\n",
              "      <th>annual_inc</th>\n",
              "      <th>verification_status</th>\n",
              "      <th>dti</th>\n",
              "      <th>delinq_2yrs</th>\n",
              "      <th>earliest_cr_line</th>\n",
              "      <th>fico_range_low</th>\n",
              "      <th>...</th>\n",
              "      <th>num_tl_op_past_12m</th>\n",
              "      <th>pct_tl_nvr_dlq</th>\n",
              "      <th>percent_bc_gt_75</th>\n",
              "      <th>pub_rec_bankruptcies</th>\n",
              "      <th>tax_liens</th>\n",
              "      <th>tot_hi_cred_lim</th>\n",
              "      <th>total_bal_ex_mort</th>\n",
              "      <th>total_bc_limit</th>\n",
              "      <th>total_il_high_credit_limit</th>\n",
              "      <th>loan_status_encoded</th>\n",
              "    </tr>\n",
              "  </thead>\n",
              "  <tbody>\n",
              "    <tr>\n",
              "      <th>0</th>\n",
              "      <td>12800.0</td>\n",
              "      <td>0</td>\n",
              "      <td>1.0</td>\n",
              "      <td>0</td>\n",
              "      <td>132500.0</td>\n",
              "      <td>1</td>\n",
              "      <td>9.78</td>\n",
              "      <td>0.0</td>\n",
              "      <td>15.665982</td>\n",
              "      <td>660.0</td>\n",
              "      <td>...</td>\n",
              "      <td>3.0</td>\n",
              "      <td>88.0</td>\n",
              "      <td>50.0</td>\n",
              "      <td>0.0</td>\n",
              "      <td>0.0</td>\n",
              "      <td>393952.0</td>\n",
              "      <td>79834.0</td>\n",
              "      <td>8593.0</td>\n",
              "      <td>82659.0</td>\n",
              "      <td>0</td>\n",
              "    </tr>\n",
              "    <tr>\n",
              "      <th>1</th>\n",
              "      <td>24000.0</td>\n",
              "      <td>0</td>\n",
              "      <td>10.0</td>\n",
              "      <td>0</td>\n",
              "      <td>70000.0</td>\n",
              "      <td>0</td>\n",
              "      <td>17.32</td>\n",
              "      <td>0.0</td>\n",
              "      <td>18.250513</td>\n",
              "      <td>720.0</td>\n",
              "      <td>...</td>\n",
              "      <td>0.0</td>\n",
              "      <td>100.0</td>\n",
              "      <td>100.0</td>\n",
              "      <td>0.0</td>\n",
              "      <td>0.0</td>\n",
              "      <td>126684.0</td>\n",
              "      <td>25691.0</td>\n",
              "      <td>22600.0</td>\n",
              "      <td>21384.0</td>\n",
              "      <td>0</td>\n",
              "    </tr>\n",
              "    <tr>\n",
              "      <th>2</th>\n",
              "      <td>18000.0</td>\n",
              "      <td>0</td>\n",
              "      <td>2.0</td>\n",
              "      <td>0</td>\n",
              "      <td>69500.0</td>\n",
              "      <td>0</td>\n",
              "      <td>23.71</td>\n",
              "      <td>0.0</td>\n",
              "      <td>20.665298</td>\n",
              "      <td>675.0</td>\n",
              "      <td>...</td>\n",
              "      <td>2.0</td>\n",
              "      <td>97.8</td>\n",
              "      <td>100.0</td>\n",
              "      <td>0.0</td>\n",
              "      <td>0.0</td>\n",
              "      <td>271341.0</td>\n",
              "      <td>137583.0</td>\n",
              "      <td>4600.0</td>\n",
              "      <td>129718.0</td>\n",
              "      <td>1</td>\n",
              "    </tr>\n",
              "    <tr>\n",
              "      <th>3</th>\n",
              "      <td>5600.0</td>\n",
              "      <td>0</td>\n",
              "      <td>0.0</td>\n",
              "      <td>1</td>\n",
              "      <td>42000.0</td>\n",
              "      <td>0</td>\n",
              "      <td>12.14</td>\n",
              "      <td>0.0</td>\n",
              "      <td>15.000684</td>\n",
              "      <td>665.0</td>\n",
              "      <td>...</td>\n",
              "      <td>1.0</td>\n",
              "      <td>88.9</td>\n",
              "      <td>100.0</td>\n",
              "      <td>0.0</td>\n",
              "      <td>0.0</td>\n",
              "      <td>22593.0</td>\n",
              "      <td>13074.0</td>\n",
              "      <td>2100.0</td>\n",
              "      <td>16093.0</td>\n",
              "      <td>0</td>\n",
              "    </tr>\n",
              "    <tr>\n",
              "      <th>4</th>\n",
              "      <td>5600.0</td>\n",
              "      <td>0</td>\n",
              "      <td>4.0</td>\n",
              "      <td>1</td>\n",
              "      <td>60000.0</td>\n",
              "      <td>0</td>\n",
              "      <td>24.56</td>\n",
              "      <td>0.0</td>\n",
              "      <td>18.833676</td>\n",
              "      <td>695.0</td>\n",
              "      <td>...</td>\n",
              "      <td>1.0</td>\n",
              "      <td>100.0</td>\n",
              "      <td>100.0</td>\n",
              "      <td>0.0</td>\n",
              "      <td>0.0</td>\n",
              "      <td>51804.0</td>\n",
              "      <td>41327.0</td>\n",
              "      <td>19600.0</td>\n",
              "      <td>28775.0</td>\n",
              "      <td>1</td>\n",
              "    </tr>\n",
              "  </tbody>\n",
              "</table>\n",
              "<p>5 rows × 56 columns</p>\n",
              "</div>"
            ],
            "text/plain": [
              "   loan_amnt  term  emp_length  home_ownership  annual_inc  \\\n",
              "0    12800.0     0         1.0               0    132500.0   \n",
              "1    24000.0     0        10.0               0     70000.0   \n",
              "2    18000.0     0         2.0               0     69500.0   \n",
              "3     5600.0     0         0.0               1     42000.0   \n",
              "4     5600.0     0         4.0               1     60000.0   \n",
              "\n",
              "   verification_status    dti  delinq_2yrs  earliest_cr_line  fico_range_low  \\\n",
              "0                    1   9.78          0.0         15.665982           660.0   \n",
              "1                    0  17.32          0.0         18.250513           720.0   \n",
              "2                    0  23.71          0.0         20.665298           675.0   \n",
              "3                    0  12.14          0.0         15.000684           665.0   \n",
              "4                    0  24.56          0.0         18.833676           695.0   \n",
              "\n",
              "   ...  num_tl_op_past_12m  pct_tl_nvr_dlq  percent_bc_gt_75  \\\n",
              "0  ...                 3.0            88.0              50.0   \n",
              "1  ...                 0.0           100.0             100.0   \n",
              "2  ...                 2.0            97.8             100.0   \n",
              "3  ...                 1.0            88.9             100.0   \n",
              "4  ...                 1.0           100.0             100.0   \n",
              "\n",
              "   pub_rec_bankruptcies  tax_liens  tot_hi_cred_lim  total_bal_ex_mort  \\\n",
              "0                   0.0        0.0         393952.0            79834.0   \n",
              "1                   0.0        0.0         126684.0            25691.0   \n",
              "2                   0.0        0.0         271341.0           137583.0   \n",
              "3                   0.0        0.0          22593.0            13074.0   \n",
              "4                   0.0        0.0          51804.0            41327.0   \n",
              "\n",
              "   total_bc_limit  total_il_high_credit_limit  loan_status_encoded  \n",
              "0          8593.0                     82659.0                    0  \n",
              "1         22600.0                     21384.0                    0  \n",
              "2          4600.0                    129718.0                    1  \n",
              "3          2100.0                     16093.0                    0  \n",
              "4         19600.0                     28775.0                    1  \n",
              "\n",
              "[5 rows x 56 columns]"
            ]
          },
          "execution_count": 27,
          "metadata": {},
          "output_type": "execute_result"
        }
      ],
      "source": [
        "# 기존 df 에 있는 칼럼 중에서, drop_list 및 post_list의 칼럼 제거\n",
        "drop_list = set(df.columns) & set(drop_list + post_list)\n",
        "\n",
        "# 불필요한 변수 Drop\n",
        "df = df.drop(columns = drop_list)\n",
        "\n",
        "# 범주형변수 처리\n",
        "df = df.select_dtypes(include = [np.number])\n",
        "\n",
        "# 결측치 처리\n",
        "df = df.fillna(0)\n",
        "df.head()"
      ]
    },
    {
      "cell_type": "code",
      "execution_count": 28,
      "metadata": {
        "id": "z-HhhKW2rWKq"
      },
      "outputs": [],
      "source": [
        "X = df.drop(columns=[target])\n",
        "y = df[target]"
      ]
    },
    {
      "cell_type": "markdown",
      "metadata": {
        "id": "RWIX34Exoyim"
      },
      "source": [
        "# 모델 선택과 훈련"
      ]
    },
    {
      "cell_type": "markdown",
      "metadata": {
        "id": "BTRHX9M5oyiA"
      },
      "source": [
        "## 테스트 세트 만들기"
      ]
    },
    {
      "cell_type": "code",
      "execution_count": 29,
      "metadata": {
        "id": "PrhJ2zzMKApN"
      },
      "outputs": [],
      "source": [
        "# Torch 설정\n",
        "\n",
        "device = torch.device(\"cuda\" if torch.cuda.is_available() else \"cpu\") if not is_test else \"cpu\" "
      ]
    },
    {
      "cell_type": "code",
      "execution_count": 30,
      "metadata": {
        "id": "BLnzlvjchMLK"
      },
      "outputs": [],
      "source": [
        "# 데이터를 훈련 세트와 테스트 세트로 분할\n",
        "X_train, X_test, y_train, y_test = train_test_split(X, y, test_size=0.2, random_state=42, stratify=y)\n",
        "\n",
        "# 표준화 (훈련 데이터에 fit_transform, 테스트 데이터에 transform)\n",
        "scaler = StandardScaler()\n",
        "X_train = scaler.fit_transform(X_train)\n",
        "X_test = scaler.transform(X_test)"
      ]
    },
    {
      "cell_type": "markdown",
      "metadata": {
        "id": "uvlhFSTgKApN"
      },
      "source": [
        "## SSAE 모델 정의"
      ]
    },
    {
      "cell_type": "code",
      "execution_count": 18,
      "metadata": {
        "id": "GhT0RT1sKApN"
      },
      "outputs": [],
      "source": [
        "# Denoising SSAE 모델 정의\n",
        "class DenoisingSSAE(nn.Module):\n",
        "    def __init__(self, input_dim):\n",
        "        super(DenoisingSSAE, self).__init__()\n",
        "        self.encoder = nn.Sequential(\n",
        "            nn.Linear(input_dim, 64),\n",
        "            nn.ReLU(),\n",
        "            nn.Linear(64, 32),\n",
        "            nn.ReLU(),\n",
        "            nn.Linear(32, 8),\n",
        "            nn.ReLU(),\n",
        "\n",
        "        )\n",
        "        self.decoder = nn.Sequential(\n",
        "            nn.Linear(8, 32),\n",
        "            nn.ReLU(),\n",
        "            nn.Linear(32, 64),\n",
        "            nn.ReLU(),\n",
        "            nn.Linear(64, input_dim)\n",
        "        )\n",
        "\n",
        "    def forward(self, x):\n",
        "        encoded = self.encoder(x)\n",
        "        decoded = self.decoder(encoded)\n",
        "        return decoded"
      ]
    },
    {
      "cell_type": "code",
      "execution_count": 19,
      "metadata": {
        "id": "xDEMNTbUmXiq"
      },
      "outputs": [],
      "source": [
        "# SSAE 변환기 클래스를 만들어 파이프라인에 통합\n",
        "class SSAETransformer(nn.Module):\n",
        "    def __init__(self, input_dim):\n",
        "        super(SSAETransformer, self).__init__()\n",
        "        self.ssae = DenoisingSSAE(input_dim).to(device)\n",
        "        self.criterion = nn.MSELoss()\n",
        "        self.optimizer = optim.Adam(self.ssae.parameters(), lr=0.01)\n",
        "\n",
        "    def fit(self, X, y=None):\n",
        "        X_train_noisy = self.add_noise(X)\n",
        "        for epoch in range(10000):\n",
        "            self.ssae.train()\n",
        "            inputs = torch.FloatTensor(X_train_noisy).to(device)\n",
        "            targets = torch.FloatTensor(X).to(device)\n",
        "            outputs = self.ssae(inputs)\n",
        "            loss = self.criterion(outputs, targets)\n",
        "            self.optimizer.zero_grad()\n",
        "            loss.backward()\n",
        "            self.optimizer.step()\n",
        "        return self\n",
        "\n",
        "    def transform(self, X):\n",
        "        self.ssae.eval()\n",
        "        X_encoded = self.ssae.encoder(torch.FloatTensor(X).to(device)).detach().cpu().numpy()\n",
        "        return X_encoded\n",
        "\n",
        "    def add_noise(self, data, noise_factor=0.2):\n",
        "        noise = noise_factor * np.random.randn(*data.shape)\n",
        "        noisy_data = data + noise\n",
        "        noisy_data = np.clip(noisy_data, 0., 1.)\n",
        "        return noisy_data"
      ]
    },
    {
      "cell_type": "markdown",
      "metadata": {
        "id": "KNxDAlFBKApN"
      },
      "source": [
        "## 모델 평가함수 및 실행"
      ]
    },
    {
      "cell_type": "code",
      "execution_count": 20,
      "metadata": {
        "id": "yXpRxDP8W6Zo"
      },
      "outputs": [],
      "source": [
        "# 평가함수 정의\n",
        "def evaluate_model(model, X_train, X_test, y_train, y_test):\n",
        "    model.fit(X_train, y_train)\n",
        "    y_pred = model.predict(X_test)\n",
        "\n",
        "    accuracy = accuracy_score(y_test, y_pred)\n",
        "    precision = precision_score(y_test, y_pred)\n",
        "    recall = recall_score(y_test, y_pred)\n",
        "    f1 = f1_score(y_test, y_pred)\n",
        "\n",
        "    print(f\"Accuracy: {accuracy:.4f}, Precision: {precision:.4f}, Recall: {recall:.4f}, F1 Score: {f1:.4f}\")\n",
        "\n",
        "    cm = confusion_matrix(y_test, y_pred)\n",
        "    disp = ConfusionMatrixDisplay(confusion_matrix=cm)\n",
        "    disp.plot()\n",
        "    plt.show()"
      ]
    },
    {
      "cell_type": "code",
      "execution_count": 21,
      "metadata": {
        "id": "81YDhprUKApO"
      },
      "outputs": [],
      "source": [
        "# ShapleyValue 계산, 시각화함수 정의\n",
        "def evaluate_models_shap1(model, X_train_encoded_ssae, X_test_encoded_ssae):\n",
        "    # Independent Masker와 LinearExplainer를 사용한 Shapley Value 계산\n",
        "    masker = shap.maskers.Independent(X_train_encoded_ssae)\n",
        "    explainer = shap.LinearExplainer(model, masker=masker)\n",
        "    shap_values = explainer(X_test_encoded_ssae)\n",
        "\n",
        "    # summary_plot을 사용한 Shapley Value 시각화\n",
        "    shap.summary_plot(shap_values, X_test_encoded_ssae, feature_names=[f\"Encoded_{i}\" for i in range(X_test_encoded_ssae.shape[1])])\n",
        "\n",
        "def evaluate_models_shap2(model, X_test_encoded_ssae):\n",
        "    # TreeExplainer를 사용한 Shapley Value 계산\n",
        "    explainer = shap.TreeExplainer(model)\n",
        "    shap_values = explainer.shap_values(X_test_encoded_ssae)\n",
        "\n",
        "    # summary_plot을 사용한 Shapley Value 시각화\n",
        "    shap.summary_plot(shap_values, X_test_encoded_ssae, feature_names=[f\"Encoded_{i}\" for i in range(X_test_encoded_ssae.shape[1])])\n"
      ]
    },
    {
      "cell_type": "code",
      "execution_count": 24,
      "metadata": {
        "id": "D6GIT1bg23Ny"
      },
      "outputs": [],
      "source": [
        "# ShapleyValue 계산, 시각화함수 정의 (TabNet 전용)\n",
        "def evaluate_models_shap_tabnet(model, X_train_encoded_ssae, X_test_encoded_ssae):\n",
        "    # DeepExplainer를 사용한 Shapley Value 계산 (TabNet 전용)\n",
        "    explainer = DeepExplainer(model, X_train_encoded_ssae)\n",
        "    shap_values = explainer.shap_values(X_test_encoded_ssae)\n",
        "\n",
        "    # summary_plot을 사용한 Shapley Value 시각화\n",
        "    shap.summary_plot(shap_values, X_test_encoded_ssae, feature_names=[f\"Encoded_{i}\" for i in range(X_test_encoded_ssae.shape[1])])"
      ]
    },
    {
      "cell_type": "code",
      "execution_count": 22,
      "metadata": {
        "colab": {
          "base_uri": "https://localhost:8080/"
        },
        "id": "iISLdev9Zbx9",
        "outputId": "2cecf897-ab9a-4b5d-9b6b-4bdee3fde8e6"
      },
      "outputs": [
        {
          "name": "stderr",
          "output_type": "stream",
          "text": [
            "/usr/local/lib/python3.10/dist-packages/pytorch_tabnet/abstract_model.py:82: UserWarning: Device used : cpu\n",
            "  warnings.warn(f\"Device used : {self.device}\")\n"
          ]
        }
      ],
      "source": [
        "# SSAE + 모델을 위한 파이프라인 정의\n",
        "ssae_transformer = SSAETransformer(input_dim=X_train.shape[1])\n",
        "\n",
        "# 모델 정의 및 파이프라인 연결\n",
        "linear_models = {\n",
        "    \"Logistic Regression\": Pipeline([\n",
        "        ('ssae', ssae_transformer),    # SSAE 추가\n",
        "        ('model', LogisticRegression(max_iter=1000))  # 최종 모델\n",
        "    ]),\n",
        "}\n",
        "\n",
        "ensemble_models = {\n",
        "    \"Random Forest Classifier\": Pipeline([\n",
        "        ('ssae', ssae_transformer),    # SSAE 추가\n",
        "        ('model', RandomForestClassifier())  # 최종 모델\n",
        "    ]),\n",
        "    \"XGBoost Classifier\": Pipeline([\n",
        "        ('ssae', ssae_transformer),    # SSAE 추가\n",
        "        ('model', xgb.XGBClassifier())  # 최종 모델\n",
        "    ]),\n",
        "    \"LightGBM Classifier\": Pipeline([\n",
        "        ('ssae', ssae_transformer),    # SSAE 추가\n",
        "        ('model', lgbm.LGBMClassifier())  # 최종 모델\n",
        "    ]),\n",
        "}\n",
        "\n",
        "tabnet_model = {\n",
        "    \"TabNet Classifier\": Pipeline([\n",
        "        ('ssae', ssae_transformer),    # SSAE 추가\n",
        "        ('model', TabNetClassifier())  # 최종 모델로 TabNet 추가\n",
        "    ]), # TabNet 추가\n",
        "}"
      ]
    },
    {
      "cell_type": "markdown",
      "metadata": {
        "id": "m--PCaKlKApO"
      },
      "source": [
        "## 테스트세트로 평가하기"
      ]
    },
    {
      "cell_type": "code",
      "execution_count": null,
      "metadata": {
        "colab": {
          "base_uri": "https://localhost:8080/",
          "height": 373
        },
        "id": "0wvLrc6GZpON",
        "outputId": "2b5ac118-ba13-46f6-9056-f64095afa5f0"
      },
      "outputs": [],
      "source": [
        "for model_name, pipeline in linear_models.items():\n",
        "    print(f\"** Evaluating {model_name} on SSAE Encoded Data: \")\n",
        "    evaluate_model(pipeline, X_train, X_test, y_train, y_test)\n",
        "\n",
        "    X_test_encoded_ssae = pipeline.named_steps['ssae'].transform(X_test)\n",
        "    X_train_encoded_ssae = pipeline.named_steps['ssae'].transform(X_train)\n",
        "\n",
        "    print(f\"** Evaluating {model_name}'s Shapley Value (LinearExplainer): \")\n",
        "    evaluate_models_shap1(pipeline.named_steps['model'], X_train_encoded_ssae, X_test_encoded_ssae)\n"
      ]
    },
    {
      "cell_type": "code",
      "execution_count": null,
      "metadata": {
        "id": "-jATilC-nC_7",
        "outputId": "e799c45a-c160-479c-cedb-a32e0e9e23e5"
      },
      "outputs": [
        {
          "name": "stdout",
          "output_type": "stream",
          "text": [
            "** Evaluating Random Forest Classifier on SSAE Encoded Data: \n",
            "Accuracy: 0.5534, Precision: 0.5552, Recall: 0.5375, F1 Score: 0.5462, R² Score: -0.7864\n"
          ]
        },
        {
          "data": {
            "image/png": "[encoded data removed]",
            "text/plain": [
              "<Figure size 640x480 with 2 Axes>"
            ]
          },
          "metadata": {},
          "output_type": "display_data"
        }
      ],
      "source": [
        "for model_name, pipeline in ensemble_models.items():\n",
        "    print(f\"** Evaluating {model_name} on SSAE Encoded Data: \")\n",
        "    evaluate_model(pipeline, X_train, X_test, y_train, y_test)\n",
        "\n",
        "    X_test_encoded_ssae = pipeline.named_steps['ssae'].transform(X_test)\n",
        "    X_train_encoded_ssae = pipeline.named_steps['ssae'].transform(X_train)\n",
        "\n",
        "    print(f\"** Evaluating {model_name}'s Shapley Value (TreeExplainer): \")\n",
        "    evaluate_models_shap2(pipeline.named_steps['model'], X_test_encoded_ssae)"
      ]
    },
    {
      "cell_type": "code",
      "execution_count": null,
      "metadata": {
        "colab": {
          "base_uri": "https://localhost:8080/",
          "height": 1000
        },
        "id": "y5BDEC4amXir",
        "outputId": "243c531f-f55a-4e08-d85b-ede995a8b969"
      },
      "outputs": [],
      "source": [
        "for model_name, pipeline in tabnet_model.items():\n",
        "    print(f\"** Evaluating {model_name} on SSAE Encoded Data: \")\n",
        "    evaluate_model(pipeline, X_train, X_test, y_train, y_test)\n",
        "\n",
        "    X_test_encoded_ssae = pipeline.named_steps['ssae'].transform(X_test)\n",
        "    X_train_encoded_ssae = pipeline.named_steps['ssae'].transform(X_train)\n",
        "\n",
        "    print(f\"** Evaluating {model_name}'s Shapley Value (TreeExplainer): \")\n",
        "    evaluate_models_shap_tabnet(pipeline.named_steps['model'], X_test_encoded_ssae)"
      ]
    }
  ],
  "metadata": {
    "colab": {
      "provenance": []
    },
    "kernelspec": {
      "display_name": "Python 3 (ipykernel)",
      "language": "python",
      "name": "python3"
    },
    "language_info": {
      "codemirror_mode": {
        "name": "ipython",
        "version": 3
      },
      "file_extension": ".py",
      "mimetype": "text/x-python",
      "name": "python",
      "nbconvert_exporter": "python",
      "pygments_lexer": "ipython3",
      "version": "3.9.18"
    },
    "nav_menu": {
      "height": "279px",
      "width": "309px"
    },
    "toc": {
      "nav_menu": {},
      "number_sections": true,
      "sideBar": true,
      "skip_h1_title": false,
      "toc_cell": false,
      "toc_position": {},
      "toc_section_display": "block",
      "toc_window_display": false
    }
  },
  "nbformat": 4,
  "nbformat_minor": 0
}
